{
 "cells": [
  {
   "cell_type": "code",
   "execution_count": 1,
   "metadata": {},
   "outputs": [],
   "source": [
    "import pandas as pd # pandas provides indexing structure and data manipulation functionality"
   ]
  },
  {
   "cell_type": "markdown",
   "metadata": {},
   "source": [
    "#### Reading data"
   ]
  },
  {
   "cell_type": "code",
   "execution_count": 2,
   "metadata": {},
   "outputs": [],
   "source": [
    "camp = pd.read_csv(\"campaign.csv\")"
   ]
  },
  {
   "cell_type": "markdown",
   "metadata": {},
   "source": [
    "#### Examine the data"
   ]
  },
  {
   "cell_type": "code",
   "execution_count": 3,
   "metadata": {},
   "outputs": [
    {
     "data": {
      "text/plain": [
       "(10022, 10)"
      ]
     },
     "execution_count": 3,
     "metadata": {},
     "output_type": "execute_result"
    }
   ],
   "source": [
    "camp.shape"
   ]
  },
  {
   "cell_type": "code",
   "execution_count": 4,
   "metadata": {},
   "outputs": [
    {
     "data": {
      "text/plain": [
       "Index(['user_id', 'date_served', 'marketing_channel', 'test_control',\n",
       "       'converted', 'language_preferred', 'age_group', 'date_subscribed',\n",
       "       'date_canceled', 'is_retained'],\n",
       "      dtype='object')"
      ]
     },
     "execution_count": 4,
     "metadata": {},
     "output_type": "execute_result"
    }
   ],
   "source": [
    "camp.columns"
   ]
  },
  {
   "cell_type": "code",
   "execution_count": 5,
   "metadata": {},
   "outputs": [
    {
     "data": {
      "text/html": [
       "<div>\n",
       "<style scoped>\n",
       "    .dataframe tbody tr th:only-of-type {\n",
       "        vertical-align: middle;\n",
       "    }\n",
       "\n",
       "    .dataframe tbody tr th {\n",
       "        vertical-align: top;\n",
       "    }\n",
       "\n",
       "    .dataframe thead th {\n",
       "        text-align: right;\n",
       "    }\n",
       "</style>\n",
       "<table border=\"1\" class=\"dataframe\">\n",
       "  <thead>\n",
       "    <tr style=\"text-align: right;\">\n",
       "      <th></th>\n",
       "      <th>user_id</th>\n",
       "      <th>date_served</th>\n",
       "      <th>marketing_channel</th>\n",
       "      <th>test_control</th>\n",
       "      <th>converted</th>\n",
       "      <th>language_preferred</th>\n",
       "      <th>age_group</th>\n",
       "      <th>date_subscribed</th>\n",
       "      <th>date_canceled</th>\n",
       "      <th>is_retained</th>\n",
       "    </tr>\n",
       "  </thead>\n",
       "  <tbody>\n",
       "    <tr>\n",
       "      <td>0</td>\n",
       "      <td>a100000029</td>\n",
       "      <td>1/1/2018</td>\n",
       "      <td>House Ads</td>\n",
       "      <td>personalization</td>\n",
       "      <td>True</td>\n",
       "      <td>English</td>\n",
       "      <td>0-18 years</td>\n",
       "      <td>1/1/2018</td>\n",
       "      <td>NaN</td>\n",
       "      <td>True</td>\n",
       "    </tr>\n",
       "    <tr>\n",
       "      <td>1</td>\n",
       "      <td>a100000030</td>\n",
       "      <td>1/1/2018</td>\n",
       "      <td>House Ads</td>\n",
       "      <td>personalization</td>\n",
       "      <td>True</td>\n",
       "      <td>English</td>\n",
       "      <td>19-24 years</td>\n",
       "      <td>1/1/2018</td>\n",
       "      <td>NaN</td>\n",
       "      <td>True</td>\n",
       "    </tr>\n",
       "    <tr>\n",
       "      <td>2</td>\n",
       "      <td>a100000031</td>\n",
       "      <td>1/1/2018</td>\n",
       "      <td>House Ads</td>\n",
       "      <td>personalization</td>\n",
       "      <td>True</td>\n",
       "      <td>English</td>\n",
       "      <td>24-30 years</td>\n",
       "      <td>1/1/2018</td>\n",
       "      <td>NaN</td>\n",
       "      <td>True</td>\n",
       "    </tr>\n",
       "    <tr>\n",
       "      <td>3</td>\n",
       "      <td>a100000032</td>\n",
       "      <td>1/1/2018</td>\n",
       "      <td>House Ads</td>\n",
       "      <td>personalization</td>\n",
       "      <td>True</td>\n",
       "      <td>English</td>\n",
       "      <td>30-36 years</td>\n",
       "      <td>1/1/2018</td>\n",
       "      <td>NaN</td>\n",
       "      <td>True</td>\n",
       "    </tr>\n",
       "    <tr>\n",
       "      <td>4</td>\n",
       "      <td>a100000033</td>\n",
       "      <td>1/1/2018</td>\n",
       "      <td>House Ads</td>\n",
       "      <td>personalization</td>\n",
       "      <td>True</td>\n",
       "      <td>English</td>\n",
       "      <td>36-45 years</td>\n",
       "      <td>1/1/2018</td>\n",
       "      <td>NaN</td>\n",
       "      <td>True</td>\n",
       "    </tr>\n",
       "    <tr>\n",
       "      <td>...</td>\n",
       "      <td>...</td>\n",
       "      <td>...</td>\n",
       "      <td>...</td>\n",
       "      <td>...</td>\n",
       "      <td>...</td>\n",
       "      <td>...</td>\n",
       "      <td>...</td>\n",
       "      <td>...</td>\n",
       "      <td>...</td>\n",
       "      <td>...</td>\n",
       "    </tr>\n",
       "    <tr>\n",
       "      <td>95</td>\n",
       "      <td>a100000104</td>\n",
       "      <td>1/5/2018</td>\n",
       "      <td>House Ads</td>\n",
       "      <td>control</td>\n",
       "      <td>True</td>\n",
       "      <td>English</td>\n",
       "      <td>0-18 years</td>\n",
       "      <td>1/5/2018</td>\n",
       "      <td>2/17/2018</td>\n",
       "      <td>False</td>\n",
       "    </tr>\n",
       "    <tr>\n",
       "      <td>96</td>\n",
       "      <td>a100000104</td>\n",
       "      <td>1/4/2018</td>\n",
       "      <td>House Ads</td>\n",
       "      <td>control</td>\n",
       "      <td>False</td>\n",
       "      <td>English</td>\n",
       "      <td>0-18 years</td>\n",
       "      <td>1/5/2018</td>\n",
       "      <td>2/17/2018</td>\n",
       "      <td>False</td>\n",
       "    </tr>\n",
       "    <tr>\n",
       "      <td>97</td>\n",
       "      <td>a100000105</td>\n",
       "      <td>1/5/2018</td>\n",
       "      <td>House Ads</td>\n",
       "      <td>control</td>\n",
       "      <td>True</td>\n",
       "      <td>English</td>\n",
       "      <td>19-24 years</td>\n",
       "      <td>1/5/2018</td>\n",
       "      <td>4/14/2018</td>\n",
       "      <td>False</td>\n",
       "    </tr>\n",
       "    <tr>\n",
       "      <td>98</td>\n",
       "      <td>a100000105</td>\n",
       "      <td>1/4/2018</td>\n",
       "      <td>House Ads</td>\n",
       "      <td>control</td>\n",
       "      <td>False</td>\n",
       "      <td>English</td>\n",
       "      <td>19-24 years</td>\n",
       "      <td>1/5/2018</td>\n",
       "      <td>4/14/2018</td>\n",
       "      <td>False</td>\n",
       "    </tr>\n",
       "    <tr>\n",
       "      <td>99</td>\n",
       "      <td>a100000107</td>\n",
       "      <td>1/5/2018</td>\n",
       "      <td>House Ads</td>\n",
       "      <td>control</td>\n",
       "      <td>True</td>\n",
       "      <td>English</td>\n",
       "      <td>24-30 years</td>\n",
       "      <td>1/5/2018</td>\n",
       "      <td>1/11/2018</td>\n",
       "      <td>False</td>\n",
       "    </tr>\n",
       "  </tbody>\n",
       "</table>\n",
       "<p>100 rows × 10 columns</p>\n",
       "</div>"
      ],
      "text/plain": [
       "       user_id date_served marketing_channel     test_control  converted  \\\n",
       "0   a100000029    1/1/2018         House Ads  personalization       True   \n",
       "1   a100000030    1/1/2018         House Ads  personalization       True   \n",
       "2   a100000031    1/1/2018         House Ads  personalization       True   \n",
       "3   a100000032    1/1/2018         House Ads  personalization       True   \n",
       "4   a100000033    1/1/2018         House Ads  personalization       True   \n",
       "..         ...         ...               ...              ...        ...   \n",
       "95  a100000104    1/5/2018         House Ads          control       True   \n",
       "96  a100000104    1/4/2018         House Ads          control      False   \n",
       "97  a100000105    1/5/2018         House Ads          control       True   \n",
       "98  a100000105    1/4/2018         House Ads          control      False   \n",
       "99  a100000107    1/5/2018         House Ads          control       True   \n",
       "\n",
       "   language_preferred    age_group date_subscribed date_canceled is_retained  \n",
       "0             English   0-18 years        1/1/2018           NaN        True  \n",
       "1             English  19-24 years        1/1/2018           NaN        True  \n",
       "2             English  24-30 years        1/1/2018           NaN        True  \n",
       "3             English  30-36 years        1/1/2018           NaN        True  \n",
       "4             English  36-45 years        1/1/2018           NaN        True  \n",
       "..                ...          ...             ...           ...         ...  \n",
       "95            English   0-18 years        1/5/2018     2/17/2018       False  \n",
       "96            English   0-18 years        1/5/2018     2/17/2018       False  \n",
       "97            English  19-24 years        1/5/2018     4/14/2018       False  \n",
       "98            English  19-24 years        1/5/2018     4/14/2018       False  \n",
       "99            English  24-30 years        1/5/2018     1/11/2018       False  \n",
       "\n",
       "[100 rows x 10 columns]"
      ]
     },
     "execution_count": 5,
     "metadata": {},
     "output_type": "execute_result"
    }
   ],
   "source": [
    "# look at the data\n",
    "camp.head(100)"
   ]
  },
  {
   "cell_type": "code",
   "execution_count": 6,
   "metadata": {},
   "outputs": [
    {
     "data": {
      "text/html": [
       "<div>\n",
       "<style scoped>\n",
       "    .dataframe tbody tr th:only-of-type {\n",
       "        vertical-align: middle;\n",
       "    }\n",
       "\n",
       "    .dataframe tbody tr th {\n",
       "        vertical-align: top;\n",
       "    }\n",
       "\n",
       "    .dataframe thead th {\n",
       "        text-align: right;\n",
       "    }\n",
       "</style>\n",
       "<table border=\"1\" class=\"dataframe\">\n",
       "  <thead>\n",
       "    <tr style=\"text-align: right;\">\n",
       "      <th></th>\n",
       "      <th>user_id</th>\n",
       "      <th>date_served</th>\n",
       "      <th>marketing_channel</th>\n",
       "      <th>test_control</th>\n",
       "      <th>converted</th>\n",
       "      <th>language_preferred</th>\n",
       "      <th>age_group</th>\n",
       "      <th>date_subscribed</th>\n",
       "      <th>date_canceled</th>\n",
       "      <th>is_retained</th>\n",
       "    </tr>\n",
       "  </thead>\n",
       "  <tbody>\n",
       "    <tr>\n",
       "      <td>count</td>\n",
       "      <td>10022</td>\n",
       "      <td>10021</td>\n",
       "      <td>10022</td>\n",
       "      <td>10022</td>\n",
       "      <td>10022</td>\n",
       "      <td>10022</td>\n",
       "      <td>10022</td>\n",
       "      <td>1856</td>\n",
       "      <td>577</td>\n",
       "      <td>1856</td>\n",
       "    </tr>\n",
       "    <tr>\n",
       "      <td>unique</td>\n",
       "      <td>7294</td>\n",
       "      <td>31</td>\n",
       "      <td>5</td>\n",
       "      <td>2</td>\n",
       "      <td>2</td>\n",
       "      <td>4</td>\n",
       "      <td>7</td>\n",
       "      <td>31</td>\n",
       "      <td>115</td>\n",
       "      <td>2</td>\n",
       "    </tr>\n",
       "    <tr>\n",
       "      <td>top</td>\n",
       "      <td>a100000882</td>\n",
       "      <td>1/15/2018</td>\n",
       "      <td>House Ads</td>\n",
       "      <td>control</td>\n",
       "      <td>False</td>\n",
       "      <td>English</td>\n",
       "      <td>19-24 years</td>\n",
       "      <td>1/16/2018</td>\n",
       "      <td>4/2/2018</td>\n",
       "      <td>True</td>\n",
       "    </tr>\n",
       "    <tr>\n",
       "      <td>freq</td>\n",
       "      <td>12</td>\n",
       "      <td>789</td>\n",
       "      <td>4733</td>\n",
       "      <td>5076</td>\n",
       "      <td>8946</td>\n",
       "      <td>9260</td>\n",
       "      <td>1679</td>\n",
       "      <td>163</td>\n",
       "      <td>15</td>\n",
       "      <td>1279</td>\n",
       "    </tr>\n",
       "  </tbody>\n",
       "</table>\n",
       "</div>"
      ],
      "text/plain": [
       "           user_id date_served marketing_channel test_control converted  \\\n",
       "count        10022       10021             10022        10022     10022   \n",
       "unique        7294          31                 5            2         2   \n",
       "top     a100000882   1/15/2018         House Ads      control     False   \n",
       "freq            12         789              4733         5076      8946   \n",
       "\n",
       "       language_preferred    age_group date_subscribed date_canceled  \\\n",
       "count               10022        10022            1856           577   \n",
       "unique                  4            7              31           115   \n",
       "top               English  19-24 years       1/16/2018      4/2/2018   \n",
       "freq                 9260         1679             163            15   \n",
       "\n",
       "       is_retained  \n",
       "count         1856  \n",
       "unique           2  \n",
       "top           True  \n",
       "freq          1279  "
      ]
     },
     "execution_count": 6,
     "metadata": {},
     "output_type": "execute_result"
    }
   ],
   "source": [
    "# look at the summary info\n",
    "camp.describe()"
   ]
  },
  {
   "cell_type": "code",
   "execution_count": 7,
   "metadata": {},
   "outputs": [
    {
     "data": {
      "text/plain": [
       "0        House Ads\n",
       "1        House Ads\n",
       "2        House Ads\n",
       "3        House Ads\n",
       "4        House Ads\n",
       "           ...    \n",
       "10017        Email\n",
       "10018        Email\n",
       "10019    Instagram\n",
       "10020        Email\n",
       "10021     Facebook\n",
       "Name: marketing_channel, Length: 10022, dtype: object"
      ]
     },
     "execution_count": 7,
     "metadata": {},
     "output_type": "execute_result"
    }
   ],
   "source": [
    "camp[\"marketing_channel\"]"
   ]
  },
  {
   "cell_type": "code",
   "execution_count": 8,
   "metadata": {},
   "outputs": [
    {
     "data": {
      "text/html": [
       "<div>\n",
       "<style scoped>\n",
       "    .dataframe tbody tr th:only-of-type {\n",
       "        vertical-align: middle;\n",
       "    }\n",
       "\n",
       "    .dataframe tbody tr th {\n",
       "        vertical-align: top;\n",
       "    }\n",
       "\n",
       "    .dataframe thead th {\n",
       "        text-align: right;\n",
       "    }\n",
       "</style>\n",
       "<table border=\"1\" class=\"dataframe\">\n",
       "  <thead>\n",
       "    <tr style=\"text-align: right;\">\n",
       "      <th></th>\n",
       "      <th>marketing_channel</th>\n",
       "    </tr>\n",
       "  </thead>\n",
       "  <tbody>\n",
       "    <tr>\n",
       "      <td>0</td>\n",
       "      <td>House Ads</td>\n",
       "    </tr>\n",
       "    <tr>\n",
       "      <td>1</td>\n",
       "      <td>House Ads</td>\n",
       "    </tr>\n",
       "    <tr>\n",
       "      <td>2</td>\n",
       "      <td>House Ads</td>\n",
       "    </tr>\n",
       "    <tr>\n",
       "      <td>3</td>\n",
       "      <td>House Ads</td>\n",
       "    </tr>\n",
       "    <tr>\n",
       "      <td>4</td>\n",
       "      <td>House Ads</td>\n",
       "    </tr>\n",
       "    <tr>\n",
       "      <td>...</td>\n",
       "      <td>...</td>\n",
       "    </tr>\n",
       "    <tr>\n",
       "      <td>10017</td>\n",
       "      <td>Email</td>\n",
       "    </tr>\n",
       "    <tr>\n",
       "      <td>10018</td>\n",
       "      <td>Email</td>\n",
       "    </tr>\n",
       "    <tr>\n",
       "      <td>10019</td>\n",
       "      <td>Instagram</td>\n",
       "    </tr>\n",
       "    <tr>\n",
       "      <td>10020</td>\n",
       "      <td>Email</td>\n",
       "    </tr>\n",
       "    <tr>\n",
       "      <td>10021</td>\n",
       "      <td>Facebook</td>\n",
       "    </tr>\n",
       "  </tbody>\n",
       "</table>\n",
       "<p>10022 rows × 1 columns</p>\n",
       "</div>"
      ],
      "text/plain": [
       "      marketing_channel\n",
       "0             House Ads\n",
       "1             House Ads\n",
       "2             House Ads\n",
       "3             House Ads\n",
       "4             House Ads\n",
       "...                 ...\n",
       "10017             Email\n",
       "10018             Email\n",
       "10019         Instagram\n",
       "10020             Email\n",
       "10021          Facebook\n",
       "\n",
       "[10022 rows x 1 columns]"
      ]
     },
     "execution_count": 8,
     "metadata": {},
     "output_type": "execute_result"
    }
   ],
   "source": [
    "camp[[\"marketing_channel\"]]"
   ]
  },
  {
   "cell_type": "markdown",
   "metadata": {},
   "source": [
    "Check **duplicate** records for primary key column"
   ]
  },
  {
   "cell_type": "code",
   "execution_count": 9,
   "metadata": {},
   "outputs": [
    {
     "data": {
      "text/plain": [
       "10022"
      ]
     },
     "execution_count": 9,
     "metadata": {},
     "output_type": "execute_result"
    }
   ],
   "source": [
    "len(camp[\"user_id\"])"
   ]
  },
  {
   "cell_type": "code",
   "execution_count": 10,
   "metadata": {},
   "outputs": [
    {
     "data": {
      "text/plain": [
       "7294"
      ]
     },
     "execution_count": 10,
     "metadata": {},
     "output_type": "execute_result"
    }
   ],
   "source": [
    "len(camp[\"user_id\"].unique())"
   ]
  },
  {
   "cell_type": "code",
   "execution_count": 12,
   "metadata": {},
   "outputs": [
    {
     "data": {
      "text/plain": [
       "7294"
      ]
     },
     "execution_count": 12,
     "metadata": {},
     "output_type": "execute_result"
    }
   ],
   "source": [
    "camp[\"user_id\"].nunique()"
   ]
  },
  {
   "cell_type": "code",
   "execution_count": 13,
   "metadata": {},
   "outputs": [
    {
     "data": {
      "text/plain": [
       "House Ads    4733\n",
       "Instagram    1871\n",
       "Facebook     1860\n",
       "Push          993\n",
       "Email         565\n",
       "Name: marketing_channel, dtype: int64"
      ]
     },
     "execution_count": 13,
     "metadata": {},
     "output_type": "execute_result"
    }
   ],
   "source": [
    "camp[\"marketing_channel\"].value_counts()"
   ]
  },
  {
   "cell_type": "code",
   "execution_count": 15,
   "metadata": {},
   "outputs": [
    {
     "data": {
      "text/plain": [
       "array(['House Ads', 'Push', 'Facebook', 'Instagram', 'Email'],\n",
       "      dtype=object)"
      ]
     },
     "execution_count": 15,
     "metadata": {},
     "output_type": "execute_result"
    }
   ],
   "source": [
    "camp[\"marketing_channel\"].unique()"
   ]
  },
  {
   "cell_type": "code",
   "execution_count": 16,
   "metadata": {},
   "outputs": [
    {
     "name": "stdout",
     "output_type": "stream",
     "text": [
      "<class 'pandas.core.frame.DataFrame'>\n",
      "RangeIndex: 10022 entries, 0 to 10021\n",
      "Data columns (total 10 columns):\n",
      "user_id               10022 non-null object\n",
      "date_served           10021 non-null object\n",
      "marketing_channel     10022 non-null object\n",
      "test_control          10022 non-null object\n",
      "converted             10022 non-null bool\n",
      "language_preferred    10022 non-null object\n",
      "age_group             10022 non-null object\n",
      "date_subscribed       1856 non-null object\n",
      "date_canceled         577 non-null object\n",
      "is_retained           1856 non-null object\n",
      "dtypes: bool(1), object(9)\n",
      "memory usage: 714.6+ KB\n"
     ]
    }
   ],
   "source": [
    "camp.info()"
   ]
  },
  {
   "cell_type": "markdown",
   "metadata": {},
   "source": [
    "Creates a boolean dataframe with True for null values and False for non-null values"
   ]
  },
  {
   "cell_type": "code",
   "execution_count": 17,
   "metadata": {},
   "outputs": [
    {
     "data": {
      "text/html": [
       "<div>\n",
       "<style scoped>\n",
       "    .dataframe tbody tr th:only-of-type {\n",
       "        vertical-align: middle;\n",
       "    }\n",
       "\n",
       "    .dataframe tbody tr th {\n",
       "        vertical-align: top;\n",
       "    }\n",
       "\n",
       "    .dataframe thead th {\n",
       "        text-align: right;\n",
       "    }\n",
       "</style>\n",
       "<table border=\"1\" class=\"dataframe\">\n",
       "  <thead>\n",
       "    <tr style=\"text-align: right;\">\n",
       "      <th></th>\n",
       "      <th>user_id</th>\n",
       "      <th>date_served</th>\n",
       "      <th>marketing_channel</th>\n",
       "      <th>test_control</th>\n",
       "      <th>converted</th>\n",
       "      <th>language_preferred</th>\n",
       "      <th>age_group</th>\n",
       "      <th>date_subscribed</th>\n",
       "      <th>date_canceled</th>\n",
       "      <th>is_retained</th>\n",
       "    </tr>\n",
       "  </thead>\n",
       "  <tbody>\n",
       "    <tr>\n",
       "      <td>0</td>\n",
       "      <td>False</td>\n",
       "      <td>False</td>\n",
       "      <td>False</td>\n",
       "      <td>False</td>\n",
       "      <td>False</td>\n",
       "      <td>False</td>\n",
       "      <td>False</td>\n",
       "      <td>False</td>\n",
       "      <td>True</td>\n",
       "      <td>False</td>\n",
       "    </tr>\n",
       "    <tr>\n",
       "      <td>1</td>\n",
       "      <td>False</td>\n",
       "      <td>False</td>\n",
       "      <td>False</td>\n",
       "      <td>False</td>\n",
       "      <td>False</td>\n",
       "      <td>False</td>\n",
       "      <td>False</td>\n",
       "      <td>False</td>\n",
       "      <td>True</td>\n",
       "      <td>False</td>\n",
       "    </tr>\n",
       "    <tr>\n",
       "      <td>2</td>\n",
       "      <td>False</td>\n",
       "      <td>False</td>\n",
       "      <td>False</td>\n",
       "      <td>False</td>\n",
       "      <td>False</td>\n",
       "      <td>False</td>\n",
       "      <td>False</td>\n",
       "      <td>False</td>\n",
       "      <td>True</td>\n",
       "      <td>False</td>\n",
       "    </tr>\n",
       "    <tr>\n",
       "      <td>3</td>\n",
       "      <td>False</td>\n",
       "      <td>False</td>\n",
       "      <td>False</td>\n",
       "      <td>False</td>\n",
       "      <td>False</td>\n",
       "      <td>False</td>\n",
       "      <td>False</td>\n",
       "      <td>False</td>\n",
       "      <td>True</td>\n",
       "      <td>False</td>\n",
       "    </tr>\n",
       "    <tr>\n",
       "      <td>4</td>\n",
       "      <td>False</td>\n",
       "      <td>False</td>\n",
       "      <td>False</td>\n",
       "      <td>False</td>\n",
       "      <td>False</td>\n",
       "      <td>False</td>\n",
       "      <td>False</td>\n",
       "      <td>False</td>\n",
       "      <td>True</td>\n",
       "      <td>False</td>\n",
       "    </tr>\n",
       "    <tr>\n",
       "      <td>...</td>\n",
       "      <td>...</td>\n",
       "      <td>...</td>\n",
       "      <td>...</td>\n",
       "      <td>...</td>\n",
       "      <td>...</td>\n",
       "      <td>...</td>\n",
       "      <td>...</td>\n",
       "      <td>...</td>\n",
       "      <td>...</td>\n",
       "      <td>...</td>\n",
       "    </tr>\n",
       "    <tr>\n",
       "      <td>10017</td>\n",
       "      <td>False</td>\n",
       "      <td>False</td>\n",
       "      <td>False</td>\n",
       "      <td>False</td>\n",
       "      <td>False</td>\n",
       "      <td>False</td>\n",
       "      <td>False</td>\n",
       "      <td>False</td>\n",
       "      <td>False</td>\n",
       "      <td>False</td>\n",
       "    </tr>\n",
       "    <tr>\n",
       "      <td>10018</td>\n",
       "      <td>False</td>\n",
       "      <td>False</td>\n",
       "      <td>False</td>\n",
       "      <td>False</td>\n",
       "      <td>False</td>\n",
       "      <td>False</td>\n",
       "      <td>False</td>\n",
       "      <td>False</td>\n",
       "      <td>True</td>\n",
       "      <td>False</td>\n",
       "    </tr>\n",
       "    <tr>\n",
       "      <td>10019</td>\n",
       "      <td>False</td>\n",
       "      <td>False</td>\n",
       "      <td>False</td>\n",
       "      <td>False</td>\n",
       "      <td>False</td>\n",
       "      <td>False</td>\n",
       "      <td>False</td>\n",
       "      <td>False</td>\n",
       "      <td>True</td>\n",
       "      <td>False</td>\n",
       "    </tr>\n",
       "    <tr>\n",
       "      <td>10020</td>\n",
       "      <td>False</td>\n",
       "      <td>False</td>\n",
       "      <td>False</td>\n",
       "      <td>False</td>\n",
       "      <td>False</td>\n",
       "      <td>False</td>\n",
       "      <td>False</td>\n",
       "      <td>False</td>\n",
       "      <td>True</td>\n",
       "      <td>False</td>\n",
       "    </tr>\n",
       "    <tr>\n",
       "      <td>10021</td>\n",
       "      <td>False</td>\n",
       "      <td>False</td>\n",
       "      <td>False</td>\n",
       "      <td>False</td>\n",
       "      <td>False</td>\n",
       "      <td>False</td>\n",
       "      <td>False</td>\n",
       "      <td>False</td>\n",
       "      <td>True</td>\n",
       "      <td>False</td>\n",
       "    </tr>\n",
       "  </tbody>\n",
       "</table>\n",
       "<p>10022 rows × 10 columns</p>\n",
       "</div>"
      ],
      "text/plain": [
       "       user_id  date_served  marketing_channel  test_control  converted  \\\n",
       "0        False        False              False         False      False   \n",
       "1        False        False              False         False      False   \n",
       "2        False        False              False         False      False   \n",
       "3        False        False              False         False      False   \n",
       "4        False        False              False         False      False   \n",
       "...        ...          ...                ...           ...        ...   \n",
       "10017    False        False              False         False      False   \n",
       "10018    False        False              False         False      False   \n",
       "10019    False        False              False         False      False   \n",
       "10020    False        False              False         False      False   \n",
       "10021    False        False              False         False      False   \n",
       "\n",
       "       language_preferred  age_group  date_subscribed  date_canceled  \\\n",
       "0                   False      False            False           True   \n",
       "1                   False      False            False           True   \n",
       "2                   False      False            False           True   \n",
       "3                   False      False            False           True   \n",
       "4                   False      False            False           True   \n",
       "...                   ...        ...              ...            ...   \n",
       "10017               False      False            False          False   \n",
       "10018               False      False            False           True   \n",
       "10019               False      False            False           True   \n",
       "10020               False      False            False           True   \n",
       "10021               False      False            False           True   \n",
       "\n",
       "       is_retained  \n",
       "0            False  \n",
       "1            False  \n",
       "2            False  \n",
       "3            False  \n",
       "4            False  \n",
       "...            ...  \n",
       "10017        False  \n",
       "10018        False  \n",
       "10019        False  \n",
       "10020        False  \n",
       "10021        False  \n",
       "\n",
       "[10022 rows x 10 columns]"
      ]
     },
     "execution_count": 17,
     "metadata": {},
     "output_type": "execute_result"
    }
   ],
   "source": [
    "camp.isnull()"
   ]
  },
  {
   "cell_type": "markdown",
   "metadata": {},
   "source": [
    "**get the number of Missing records in each column:**"
   ]
  },
  {
   "cell_type": "code",
   "execution_count": 18,
   "metadata": {},
   "outputs": [
    {
     "data": {
      "text/plain": [
       "user_id                  0\n",
       "date_served              1\n",
       "marketing_channel        0\n",
       "test_control             0\n",
       "converted                0\n",
       "language_preferred       0\n",
       "age_group                0\n",
       "date_subscribed       8166\n",
       "date_canceled         9445\n",
       "is_retained           8166\n",
       "dtype: int64"
      ]
     },
     "execution_count": 18,
     "metadata": {},
     "output_type": "execute_result"
    }
   ],
   "source": [
    "camp.isnull().sum()"
   ]
  },
  {
   "cell_type": "code",
   "execution_count": null,
   "metadata": {},
   "outputs": [],
   "source": []
  },
  {
   "cell_type": "markdown",
   "metadata": {},
   "source": [
    "### 2. Campaign result overview"
   ]
  },
  {
   "cell_type": "markdown",
   "metadata": {},
   "source": [
    "#### Number of users receive marketing offers by day"
   ]
  },
  {
   "cell_type": "code",
   "execution_count": 19,
   "metadata": {},
   "outputs": [],
   "source": [
    "#Group by date_served\n",
    "daily_users = camp.groupby(['date_served'])['user_id'].nunique() \n",
    "# select date_served, count(distinct user_id) from campaign group by date_served;"
   ]
  },
  {
   "cell_type": "code",
   "execution_count": 20,
   "metadata": {},
   "outputs": [
    {
     "name": "stdout",
     "output_type": "stream",
     "text": [
      "date_served\n",
      "1/1/2018     362\n",
      "1/10/2018    337\n",
      "1/11/2018    310\n",
      "1/12/2018    301\n",
      "1/13/2018    306\n",
      "1/14/2018    305\n",
      "1/15/2018    767\n",
      "1/16/2018    388\n",
      "1/17/2018    369\n",
      "1/18/2018    318\n",
      "1/19/2018    305\n",
      "1/2/2018     374\n",
      "1/20/2018    311\n",
      "1/21/2018    229\n",
      "1/22/2018    178\n",
      "1/23/2018    172\n",
      "1/24/2018    190\n",
      "1/25/2018    184\n",
      "1/26/2018    222\n",
      "1/27/2018    320\n",
      "1/28/2018    320\n",
      "1/29/2018    319\n",
      "1/3/2018     348\n",
      "1/30/2018    317\n",
      "1/31/2018    340\n",
      "1/4/2018     323\n",
      "1/5/2018     319\n",
      "1/6/2018     308\n",
      "1/7/2018     275\n",
      "1/8/2018     312\n",
      "1/9/2018     312\n",
      "Name: user_id, dtype: int64\n"
     ]
    }
   ],
   "source": [
    "print(daily_users)"
   ]
  },
  {
   "cell_type": "markdown",
   "metadata": {},
   "source": [
    "#### Visualization in Python"
   ]
  },
  {
   "cell_type": "code",
   "execution_count": 24,
   "metadata": {},
   "outputs": [],
   "source": [
    "camp[\"date_served\"] = pd.to_datetime(camp[\"date_served\"])"
   ]
  },
  {
   "cell_type": "code",
   "execution_count": 26,
   "metadata": {},
   "outputs": [
    {
     "name": "stdout",
     "output_type": "stream",
     "text": [
      "<class 'pandas.core.frame.DataFrame'>\n",
      "RangeIndex: 10022 entries, 0 to 10021\n",
      "Data columns (total 10 columns):\n",
      "user_id               10022 non-null object\n",
      "date_served           10021 non-null datetime64[ns]\n",
      "marketing_channel     10022 non-null object\n",
      "test_control          10022 non-null object\n",
      "converted             10022 non-null bool\n",
      "language_preferred    10022 non-null object\n",
      "age_group             10022 non-null object\n",
      "date_subscribed       1856 non-null object\n",
      "date_canceled         577 non-null object\n",
      "is_retained           1856 non-null object\n",
      "dtypes: bool(1), datetime64[ns](1), object(8)\n",
      "memory usage: 714.6+ KB\n"
     ]
    }
   ],
   "source": [
    "camp.info()"
   ]
  },
  {
   "cell_type": "code",
   "execution_count": 27,
   "metadata": {},
   "outputs": [
    {
     "name": "stdout",
     "output_type": "stream",
     "text": [
      "date_served\n",
      "2018-01-01    362\n",
      "2018-01-02    374\n",
      "2018-01-03    348\n",
      "2018-01-04    323\n",
      "2018-01-05    319\n",
      "2018-01-06    308\n",
      "2018-01-07    275\n",
      "2018-01-08    312\n",
      "2018-01-09    312\n",
      "2018-01-10    337\n",
      "2018-01-11    310\n",
      "2018-01-12    301\n",
      "2018-01-13    306\n",
      "2018-01-14    305\n",
      "2018-01-15    767\n",
      "2018-01-16    388\n",
      "2018-01-17    369\n",
      "2018-01-18    318\n",
      "2018-01-19    305\n",
      "2018-01-20    311\n",
      "2018-01-21    229\n",
      "2018-01-22    178\n",
      "2018-01-23    172\n",
      "2018-01-24    190\n",
      "2018-01-25    184\n",
      "2018-01-26    222\n",
      "2018-01-27    320\n",
      "2018-01-28    320\n",
      "2018-01-29    319\n",
      "2018-01-30    317\n",
      "2018-01-31    340\n",
      "Name: user_id, dtype: int64\n"
     ]
    }
   ],
   "source": [
    "daily_users = camp.groupby(['date_served'])['user_id'].nunique()\n",
    "print(daily_users)"
   ]
  },
  {
   "cell_type": "code",
   "execution_count": 28,
   "metadata": {},
   "outputs": [
    {
     "data": {
      "image/png": "[encoded data removed]",
      "text/plain": [
       "<Figure size 432x288 with 1 Axes>"
      ]
     },
     "metadata": {
      "needs_background": "light"
     },
     "output_type": "display_data"
    }
   ],
   "source": [
    "# plot\n",
    "daily_users.plot()\n",
    "\n",
    "# annotate\n",
    "plt.title('daily number of users seeing the ads')\n",
    "plt.xlabel('Date')\n",
    "plt.ylabel('Number of users')\n",
    "plt.show()"
   ]
  },
  {
   "cell_type": "markdown",
   "metadata": {},
   "source": [
    "#### Overall conversion rate"
   ]
  },
  {
   "cell_type": "code",
   "execution_count": 30,
   "metadata": {},
   "outputs": [
    {
     "data": {
      "text/plain": [
       "converted\n",
       "False    6854\n",
       "True     1015\n",
       "Name: user_id, dtype: int64"
      ]
     },
     "execution_count": 30,
     "metadata": {},
     "output_type": "execute_result"
    }
   ],
   "source": [
    "camp.groupby([\"converted\"])[\"user_id\"].nunique()"
   ]
  },
  {
   "cell_type": "code",
   "execution_count": 32,
   "metadata": {},
   "outputs": [
    {
     "data": {
      "text/plain": [
       "7294"
      ]
     },
     "execution_count": 32,
     "metadata": {},
     "output_type": "execute_result"
    }
   ],
   "source": [
    "camp['user_id'].nunique()"
   ]
  },
  {
   "cell_type": "code",
   "execution_count": 33,
   "metadata": {},
   "outputs": [
    {
     "data": {
      "text/plain": [
       "converted\n",
       "False    0.939676\n",
       "True     0.139155\n",
       "Name: user_id, dtype: float64"
      ]
     },
     "execution_count": 33,
     "metadata": {},
     "output_type": "execute_result"
    }
   ],
   "source": [
    "camp.groupby([\"converted\"])[\"user_id\"].nunique()/camp['user_id'].nunique()"
   ]
  },
  {
   "cell_type": "markdown",
   "metadata": {},
   "source": [
    "The sum of false and true rates larger than 1 is because there is duplicated user_id. User didn't get converted at first, and got converted later."
   ]
  },
  {
   "cell_type": "code",
   "execution_count": 34,
   "metadata": {},
   "outputs": [
    {
     "data": {
      "text/plain": [
       "0.13915547024952016"
      ]
     },
     "execution_count": 34,
     "metadata": {},
     "output_type": "execute_result"
    }
   ],
   "source": [
    "conversation_rate = 1015/7294\n",
    "conversation_rate"
   ]
  },
  {
   "cell_type": "markdown",
   "metadata": {},
   "source": [
    "- **Conversion rate** = Number of people who converted / Total number of people who received offers\n",
    "- **Retention rate** = number of people who remained / Total number of people who converted"
   ]
  },
  {
   "cell_type": "markdown",
   "metadata": {},
   "source": [
    "### Filtering"
   ]
  },
  {
   "cell_type": "code",
   "execution_count": 36,
   "metadata": {},
   "outputs": [
    {
     "data": {
      "text/plain": [
       "0         True\n",
       "1         True\n",
       "2         True\n",
       "3         True\n",
       "4         True\n",
       "         ...  \n",
       "10017    False\n",
       "10018     True\n",
       "10019     True\n",
       "10020     True\n",
       "10021     True\n",
       "Name: is_retained, Length: 10022, dtype: bool"
      ]
     },
     "execution_count": 36,
     "metadata": {},
     "output_type": "execute_result"
    }
   ],
   "source": [
    "# Create a boolean mask\n",
    "camp['is_retained']==True"
   ]
  },
  {
   "cell_type": "code",
   "execution_count": 37,
   "metadata": {},
   "outputs": [
    {
     "data": {
      "text/html": [
       "<div>\n",
       "<style scoped>\n",
       "    .dataframe tbody tr th:only-of-type {\n",
       "        vertical-align: middle;\n",
       "    }\n",
       "\n",
       "    .dataframe tbody tr th {\n",
       "        vertical-align: top;\n",
       "    }\n",
       "\n",
       "    .dataframe thead th {\n",
       "        text-align: right;\n",
       "    }\n",
       "</style>\n",
       "<table border=\"1\" class=\"dataframe\">\n",
       "  <thead>\n",
       "    <tr style=\"text-align: right;\">\n",
       "      <th></th>\n",
       "      <th>user_id</th>\n",
       "      <th>date_served</th>\n",
       "      <th>marketing_channel</th>\n",
       "      <th>test_control</th>\n",
       "      <th>converted</th>\n",
       "      <th>language_preferred</th>\n",
       "      <th>age_group</th>\n",
       "      <th>date_subscribed</th>\n",
       "      <th>date_canceled</th>\n",
       "      <th>is_retained</th>\n",
       "    </tr>\n",
       "  </thead>\n",
       "  <tbody>\n",
       "    <tr>\n",
       "      <td>0</td>\n",
       "      <td>a100000029</td>\n",
       "      <td>2018-01-01</td>\n",
       "      <td>House Ads</td>\n",
       "      <td>personalization</td>\n",
       "      <td>True</td>\n",
       "      <td>English</td>\n",
       "      <td>0-18 years</td>\n",
       "      <td>1/1/2018</td>\n",
       "      <td>NaN</td>\n",
       "      <td>True</td>\n",
       "    </tr>\n",
       "    <tr>\n",
       "      <td>1</td>\n",
       "      <td>a100000030</td>\n",
       "      <td>2018-01-01</td>\n",
       "      <td>House Ads</td>\n",
       "      <td>personalization</td>\n",
       "      <td>True</td>\n",
       "      <td>English</td>\n",
       "      <td>19-24 years</td>\n",
       "      <td>1/1/2018</td>\n",
       "      <td>NaN</td>\n",
       "      <td>True</td>\n",
       "    </tr>\n",
       "    <tr>\n",
       "      <td>2</td>\n",
       "      <td>a100000031</td>\n",
       "      <td>2018-01-01</td>\n",
       "      <td>House Ads</td>\n",
       "      <td>personalization</td>\n",
       "      <td>True</td>\n",
       "      <td>English</td>\n",
       "      <td>24-30 years</td>\n",
       "      <td>1/1/2018</td>\n",
       "      <td>NaN</td>\n",
       "      <td>True</td>\n",
       "    </tr>\n",
       "    <tr>\n",
       "      <td>3</td>\n",
       "      <td>a100000032</td>\n",
       "      <td>2018-01-01</td>\n",
       "      <td>House Ads</td>\n",
       "      <td>personalization</td>\n",
       "      <td>True</td>\n",
       "      <td>English</td>\n",
       "      <td>30-36 years</td>\n",
       "      <td>1/1/2018</td>\n",
       "      <td>NaN</td>\n",
       "      <td>True</td>\n",
       "    </tr>\n",
       "    <tr>\n",
       "      <td>4</td>\n",
       "      <td>a100000033</td>\n",
       "      <td>2018-01-01</td>\n",
       "      <td>House Ads</td>\n",
       "      <td>personalization</td>\n",
       "      <td>True</td>\n",
       "      <td>English</td>\n",
       "      <td>36-45 years</td>\n",
       "      <td>1/1/2018</td>\n",
       "      <td>NaN</td>\n",
       "      <td>True</td>\n",
       "    </tr>\n",
       "    <tr>\n",
       "      <td>...</td>\n",
       "      <td>...</td>\n",
       "      <td>...</td>\n",
       "      <td>...</td>\n",
       "      <td>...</td>\n",
       "      <td>...</td>\n",
       "      <td>...</td>\n",
       "      <td>...</td>\n",
       "      <td>...</td>\n",
       "      <td>...</td>\n",
       "      <td>...</td>\n",
       "    </tr>\n",
       "    <tr>\n",
       "      <td>10008</td>\n",
       "      <td>a100007281</td>\n",
       "      <td>2018-01-17</td>\n",
       "      <td>Email</td>\n",
       "      <td>control</td>\n",
       "      <td>True</td>\n",
       "      <td>German</td>\n",
       "      <td>30-36 years</td>\n",
       "      <td>1/17/2018</td>\n",
       "      <td>NaN</td>\n",
       "      <td>True</td>\n",
       "    </tr>\n",
       "    <tr>\n",
       "      <td>10018</td>\n",
       "      <td>a100007291</td>\n",
       "      <td>2018-01-17</td>\n",
       "      <td>Email</td>\n",
       "      <td>control</td>\n",
       "      <td>True</td>\n",
       "      <td>German</td>\n",
       "      <td>55+ years</td>\n",
       "      <td>1/17/2018</td>\n",
       "      <td>NaN</td>\n",
       "      <td>True</td>\n",
       "    </tr>\n",
       "    <tr>\n",
       "      <td>10019</td>\n",
       "      <td>a100007292</td>\n",
       "      <td>2018-01-05</td>\n",
       "      <td>Instagram</td>\n",
       "      <td>control</td>\n",
       "      <td>False</td>\n",
       "      <td>German</td>\n",
       "      <td>55+ years</td>\n",
       "      <td>1/17/2018</td>\n",
       "      <td>NaN</td>\n",
       "      <td>True</td>\n",
       "    </tr>\n",
       "    <tr>\n",
       "      <td>10020</td>\n",
       "      <td>a100007293</td>\n",
       "      <td>2018-01-17</td>\n",
       "      <td>Email</td>\n",
       "      <td>control</td>\n",
       "      <td>True</td>\n",
       "      <td>German</td>\n",
       "      <td>0-18 years</td>\n",
       "      <td>1/17/2018</td>\n",
       "      <td>NaN</td>\n",
       "      <td>True</td>\n",
       "    </tr>\n",
       "    <tr>\n",
       "      <td>10021</td>\n",
       "      <td>a100007294</td>\n",
       "      <td>2018-01-06</td>\n",
       "      <td>Facebook</td>\n",
       "      <td>control</td>\n",
       "      <td>False</td>\n",
       "      <td>German</td>\n",
       "      <td>0-18 years</td>\n",
       "      <td>1/17/2018</td>\n",
       "      <td>NaN</td>\n",
       "      <td>True</td>\n",
       "    </tr>\n",
       "  </tbody>\n",
       "</table>\n",
       "<p>1279 rows × 10 columns</p>\n",
       "</div>"
      ],
      "text/plain": [
       "          user_id date_served marketing_channel     test_control  converted  \\\n",
       "0      a100000029  2018-01-01         House Ads  personalization       True   \n",
       "1      a100000030  2018-01-01         House Ads  personalization       True   \n",
       "2      a100000031  2018-01-01         House Ads  personalization       True   \n",
       "3      a100000032  2018-01-01         House Ads  personalization       True   \n",
       "4      a100000033  2018-01-01         House Ads  personalization       True   \n",
       "...           ...         ...               ...              ...        ...   \n",
       "10008  a100007281  2018-01-17             Email          control       True   \n",
       "10018  a100007291  2018-01-17             Email          control       True   \n",
       "10019  a100007292  2018-01-05         Instagram          control      False   \n",
       "10020  a100007293  2018-01-17             Email          control       True   \n",
       "10021  a100007294  2018-01-06          Facebook          control      False   \n",
       "\n",
       "      language_preferred    age_group date_subscribed date_canceled  \\\n",
       "0                English   0-18 years        1/1/2018           NaN   \n",
       "1                English  19-24 years        1/1/2018           NaN   \n",
       "2                English  24-30 years        1/1/2018           NaN   \n",
       "3                English  30-36 years        1/1/2018           NaN   \n",
       "4                English  36-45 years        1/1/2018           NaN   \n",
       "...                  ...          ...             ...           ...   \n",
       "10008             German  30-36 years       1/17/2018           NaN   \n",
       "10018             German    55+ years       1/17/2018           NaN   \n",
       "10019             German    55+ years       1/17/2018           NaN   \n",
       "10020             German   0-18 years       1/17/2018           NaN   \n",
       "10021             German   0-18 years       1/17/2018           NaN   \n",
       "\n",
       "      is_retained  \n",
       "0            True  \n",
       "1            True  \n",
       "2            True  \n",
       "3            True  \n",
       "4            True  \n",
       "...           ...  \n",
       "10008        True  \n",
       "10018        True  \n",
       "10019        True  \n",
       "10020        True  \n",
       "10021        True  \n",
       "\n",
       "[1279 rows x 10 columns]"
      ]
     },
     "execution_count": 37,
     "metadata": {},
     "output_type": "execute_result"
    }
   ],
   "source": [
    "# Put the boolean mask into the dataframe\n",
    "camp.loc[camp['is_retained']==True]    # == select * from campaign where is_retained = True"
   ]
  },
  {
   "cell_type": "code",
   "execution_count": 38,
   "metadata": {},
   "outputs": [],
   "source": [
    "retained = camp.loc[camp['is_retained']==True]['user_id'].nunique()"
   ]
  },
  {
   "cell_type": "code",
   "execution_count": 39,
   "metadata": {},
   "outputs": [
    {
     "name": "stdout",
     "output_type": "stream",
     "text": [
      "678\n"
     ]
    }
   ],
   "source": [
    "print(retained)"
   ]
  },
  {
   "cell_type": "code",
   "execution_count": 40,
   "metadata": {},
   "outputs": [],
   "source": [
    "converted = camp.loc[camp['converted']==True]['user_id'].nunique()"
   ]
  },
  {
   "cell_type": "code",
   "execution_count": 41,
   "metadata": {},
   "outputs": [
    {
     "name": "stdout",
     "output_type": "stream",
     "text": [
      "1015\n"
     ]
    }
   ],
   "source": [
    "print(converted)"
   ]
  },
  {
   "cell_type": "code",
   "execution_count": 42,
   "metadata": {},
   "outputs": [],
   "source": [
    "retention_rate = retained / converted"
   ]
  },
  {
   "cell_type": "code",
   "execution_count": 43,
   "metadata": {},
   "outputs": [
    {
     "name": "stdout",
     "output_type": "stream",
     "text": [
      "0.67\n"
     ]
    }
   ],
   "source": [
    "print(round(retention_rate,2))"
   ]
  },
  {
   "cell_type": "code",
   "execution_count": null,
   "metadata": {},
   "outputs": [],
   "source": []
  },
  {
   "cell_type": "markdown",
   "metadata": {},
   "source": [
    "#### Plot accumulative response rate by day:"
   ]
  },
  {
   "cell_type": "code",
   "execution_count": 47,
   "metadata": {},
   "outputs": [],
   "source": [
    "daily_responder = camp.loc[camp['converted'] == True].groupby(['date_served'])['user_id'].nunique()"
   ]
  },
  {
   "cell_type": "code",
   "execution_count": 48,
   "metadata": {},
   "outputs": [
    {
     "data": {
      "text/plain": [
       "date_served\n",
       "2018-01-01      36\n",
       "2018-01-02      73\n",
       "2018-01-03     109\n",
       "2018-01-04     144\n",
       "2018-01-05     184\n",
       "2018-01-06     219\n",
       "2018-01-07     258\n",
       "2018-01-08     294\n",
       "2018-01-09     333\n",
       "2018-01-10     373\n",
       "2018-01-11     398\n",
       "2018-01-12     421\n",
       "2018-01-13     447\n",
       "2018-01-14     473\n",
       "2018-01-15     560\n",
       "2018-01-16     659\n",
       "2018-01-17     740\n",
       "2018-01-18     769\n",
       "2018-01-19     787\n",
       "2018-01-20     808\n",
       "2018-01-21     828\n",
       "2018-01-22     850\n",
       "2018-01-23     871\n",
       "2018-01-24     893\n",
       "2018-01-25     916\n",
       "2018-01-26     936\n",
       "2018-01-27     957\n",
       "2018-01-28     977\n",
       "2018-01-29     996\n",
       "2018-01-30    1017\n",
       "2018-01-31    1035\n",
       "Name: user_id, dtype: int64"
      ]
     },
     "execution_count": 48,
     "metadata": {},
     "output_type": "execute_result"
    }
   ],
   "source": [
    "# cumsum(): method for accumulation\n",
    "daily_responder.cumsum()"
   ]
  },
  {
   "cell_type": "code",
   "execution_count": 49,
   "metadata": {},
   "outputs": [],
   "source": [
    "accu_response_by_day = daily_responder.cumsum() / camp['user_id'].nunique()"
   ]
  },
  {
   "cell_type": "code",
   "execution_count": 50,
   "metadata": {},
   "outputs": [
    {
     "data": {
      "text/plain": [
       "<matplotlib.axes._subplots.AxesSubplot at 0x7fd7bb6bd290>"
      ]
     },
     "execution_count": 50,
     "metadata": {},
     "output_type": "execute_result"
    },
    {
     "data": {
      "image/png": "[encoded data removed]",
      "text/plain": [
       "<Figure size 432x288 with 1 Axes>"
      ]
     },
     "metadata": {
      "needs_background": "light"
     },
     "output_type": "display_data"
    }
   ],
   "source": [
    "accu_response_by_day.plot()"
   ]
  },
  {
   "cell_type": "code",
   "execution_count": null,
   "metadata": {},
   "outputs": [],
   "source": []
  },
  {
   "cell_type": "markdown",
   "metadata": {},
   "source": [
    "#### Customer Segmentation analysis\n",
    "- Analyze campaign performance by each segments\n",
    "- Target profitable segments for next campaign"
   ]
  },
  {
   "cell_type": "code",
   "execution_count": 51,
   "metadata": {},
   "outputs": [
    {
     "data": {
      "text/plain": [
       "marketing_channel\n",
       "Email         553\n",
       "Facebook     1758\n",
       "House Ads    3968\n",
       "Instagram    1740\n",
       "Push          972\n",
       "Name: user_id, dtype: int64"
      ]
     },
     "execution_count": 51,
     "metadata": {},
     "output_type": "execute_result"
    }
   ],
   "source": [
    "# Look at by marketing channel:\n",
    "camp.groupby(['marketing_channel'])['user_id'].nunique()"
   ]
  },
  {
   "cell_type": "code",
   "execution_count": 52,
   "metadata": {},
   "outputs": [
    {
     "data": {
      "text/plain": [
       "marketing_channel\n",
       "Email        187\n",
       "Facebook     221\n",
       "House Ads    298\n",
       "Instagram    232\n",
       "Push          77\n",
       "Name: user_id, dtype: int64"
      ]
     },
     "execution_count": 52,
     "metadata": {},
     "output_type": "execute_result"
    }
   ],
   "source": [
    "# How many customers are converted in each marketing channel\n",
    "camp.loc[camp['converted'] == True].groupby(['marketing_channel'])['user_id'].nunique()"
   ]
  },
  {
   "cell_type": "markdown",
   "metadata": {},
   "source": [
    "#### Conversion rate by channel"
   ]
  },
  {
   "cell_type": "code",
   "execution_count": 53,
   "metadata": {},
   "outputs": [],
   "source": [
    "conversion_by_channel = camp.loc[camp['converted'] == True].groupby(['marketing_channel'])['user_id'].nunique() / \\\n",
    "camp.groupby(['marketing_channel'])['user_id'].nunique()"
   ]
  },
  {
   "cell_type": "code",
   "execution_count": 54,
   "metadata": {},
   "outputs": [
    {
     "name": "stdout",
     "output_type": "stream",
     "text": [
      "marketing_channel\n",
      "Email        0.338156\n",
      "Facebook     0.125711\n",
      "House Ads    0.075101\n",
      "Instagram    0.133333\n",
      "Push         0.079218\n",
      "Name: user_id, dtype: float64\n"
     ]
    }
   ],
   "source": [
    "print(conversion_by_channel)"
   ]
  },
  {
   "cell_type": "code",
   "execution_count": 55,
   "metadata": {},
   "outputs": [
    {
     "data": {
      "image/png": "[encoded data removed]",
      "text/plain": [
       "<Figure size 432x288 with 1 Axes>"
      ]
     },
     "metadata": {
      "needs_background": "light"
     },
     "output_type": "display_data"
    }
   ],
   "source": [
    "#plot conversion rate by channel:\n",
    "\n",
    "import matplotlib.pyplot as plt\n",
    "\n",
    "# plot\n",
    "conversion_by_channel.plot(kind='bar')\n",
    "\n",
    "# annotate\n",
    "plt.title('conversion rate by channel')\n",
    "plt.xlabel('marketing channel')\n",
    "plt.ylabel('conversion rate')\n",
    "plt.show()"
   ]
  },
  {
   "cell_type": "markdown",
   "metadata": {},
   "source": [
    "#### Retention rate by each marketing channel"
   ]
  },
  {
   "cell_type": "code",
   "execution_count": 56,
   "metadata": {},
   "outputs": [],
   "source": [
    "conv_by_channel = camp.loc[camp['converted'] == True].groupby(['marketing_channel'])['user_id'].nunique()"
   ]
  },
  {
   "cell_type": "code",
   "execution_count": 58,
   "metadata": {},
   "outputs": [],
   "source": [
    "retain_by_channel = camp.loc[camp['is_retained'] == True].groupby(['marketing_channel'])['user_id'].nunique()"
   ]
  },
  {
   "cell_type": "code",
   "execution_count": 61,
   "metadata": {},
   "outputs": [],
   "source": [
    "retention_rate = retain_by_channel / conv_by_channel"
   ]
  },
  {
   "cell_type": "code",
   "execution_count": 62,
   "metadata": {},
   "outputs": [
    {
     "name": "stdout",
     "output_type": "stream",
     "text": [
      "marketing_channel\n",
      "Email        0.743316\n",
      "Facebook     0.954751\n",
      "House Ads    1.268456\n",
      "Instagram    0.853448\n",
      "Push         1.233766\n",
      "Name: user_id, dtype: float64\n"
     ]
    }
   ],
   "source": [
    "print(retention_rate)"
   ]
  },
  {
   "cell_type": "code",
   "execution_count": null,
   "metadata": {},
   "outputs": [],
   "source": [
    "retention_rate.plot()"
   ]
  },
  {
   "cell_type": "markdown",
   "metadata": {},
   "source": [
    "Retention rate by channel seems to be larger than 1"
   ]
  },
  {
   "cell_type": "markdown",
   "metadata": {},
   "source": [
    "**data investigations** for it"
   ]
  },
  {
   "cell_type": "markdown",
   "metadata": {},
   "source": [
    "There should be a case where converted is False and retained is True"
   ]
  },
  {
   "cell_type": "code",
   "execution_count": 64,
   "metadata": {},
   "outputs": [
    {
     "data": {
      "text/html": [
       "<div>\n",
       "<style scoped>\n",
       "    .dataframe tbody tr th:only-of-type {\n",
       "        vertical-align: middle;\n",
       "    }\n",
       "\n",
       "    .dataframe tbody tr th {\n",
       "        vertical-align: top;\n",
       "    }\n",
       "\n",
       "    .dataframe thead th {\n",
       "        text-align: right;\n",
       "    }\n",
       "</style>\n",
       "<table border=\"1\" class=\"dataframe\">\n",
       "  <thead>\n",
       "    <tr style=\"text-align: right;\">\n",
       "      <th></th>\n",
       "      <th>user_id</th>\n",
       "      <th>date_served</th>\n",
       "      <th>marketing_channel</th>\n",
       "      <th>test_control</th>\n",
       "      <th>converted</th>\n",
       "      <th>language_preferred</th>\n",
       "      <th>age_group</th>\n",
       "      <th>date_subscribed</th>\n",
       "      <th>date_canceled</th>\n",
       "      <th>is_retained</th>\n",
       "    </tr>\n",
       "  </thead>\n",
       "  <tbody>\n",
       "    <tr>\n",
       "      <td>22</td>\n",
       "      <td>a100000050</td>\n",
       "      <td>2018-01-01</td>\n",
       "      <td>House Ads</td>\n",
       "      <td>personalization</td>\n",
       "      <td>False</td>\n",
       "      <td>English</td>\n",
       "      <td>24-30 years</td>\n",
       "      <td>1/2/2018</td>\n",
       "      <td>NaN</td>\n",
       "      <td>True</td>\n",
       "    </tr>\n",
       "    <tr>\n",
       "      <td>24</td>\n",
       "      <td>a100000051</td>\n",
       "      <td>2018-01-01</td>\n",
       "      <td>Push</td>\n",
       "      <td>personalization</td>\n",
       "      <td>False</td>\n",
       "      <td>English</td>\n",
       "      <td>30-36 years</td>\n",
       "      <td>1/2/2018</td>\n",
       "      <td>NaN</td>\n",
       "      <td>True</td>\n",
       "    </tr>\n",
       "    <tr>\n",
       "      <td>26</td>\n",
       "      <td>a100000052</td>\n",
       "      <td>2018-01-01</td>\n",
       "      <td>House Ads</td>\n",
       "      <td>personalization</td>\n",
       "      <td>False</td>\n",
       "      <td>English</td>\n",
       "      <td>36-45 years</td>\n",
       "      <td>1/2/2018</td>\n",
       "      <td>NaN</td>\n",
       "      <td>True</td>\n",
       "    </tr>\n",
       "    <tr>\n",
       "      <td>28</td>\n",
       "      <td>a100000053</td>\n",
       "      <td>2018-01-01</td>\n",
       "      <td>House Ads</td>\n",
       "      <td>personalization</td>\n",
       "      <td>False</td>\n",
       "      <td>English</td>\n",
       "      <td>45-55 years</td>\n",
       "      <td>1/2/2018</td>\n",
       "      <td>NaN</td>\n",
       "      <td>True</td>\n",
       "    </tr>\n",
       "    <tr>\n",
       "      <td>30</td>\n",
       "      <td>a100000054</td>\n",
       "      <td>2018-01-01</td>\n",
       "      <td>House Ads</td>\n",
       "      <td>personalization</td>\n",
       "      <td>False</td>\n",
       "      <td>English</td>\n",
       "      <td>55+ years</td>\n",
       "      <td>1/2/2018</td>\n",
       "      <td>NaN</td>\n",
       "      <td>True</td>\n",
       "    </tr>\n",
       "    <tr>\n",
       "      <td>...</td>\n",
       "      <td>...</td>\n",
       "      <td>...</td>\n",
       "      <td>...</td>\n",
       "      <td>...</td>\n",
       "      <td>...</td>\n",
       "      <td>...</td>\n",
       "      <td>...</td>\n",
       "      <td>...</td>\n",
       "      <td>...</td>\n",
       "      <td>...</td>\n",
       "    </tr>\n",
       "    <tr>\n",
       "      <td>9985</td>\n",
       "      <td>a100007258</td>\n",
       "      <td>2018-01-15</td>\n",
       "      <td>Email</td>\n",
       "      <td>personalization</td>\n",
       "      <td>False</td>\n",
       "      <td>German</td>\n",
       "      <td>24-30 years</td>\n",
       "      <td>1/15/2018</td>\n",
       "      <td>NaN</td>\n",
       "      <td>True</td>\n",
       "    </tr>\n",
       "    <tr>\n",
       "      <td>9993</td>\n",
       "      <td>a100007266</td>\n",
       "      <td>2018-01-16</td>\n",
       "      <td>Email</td>\n",
       "      <td>personalization</td>\n",
       "      <td>False</td>\n",
       "      <td>German</td>\n",
       "      <td>24-30 years</td>\n",
       "      <td>1/16/2018</td>\n",
       "      <td>NaN</td>\n",
       "      <td>True</td>\n",
       "    </tr>\n",
       "    <tr>\n",
       "      <td>10005</td>\n",
       "      <td>a100007278</td>\n",
       "      <td>2018-01-16</td>\n",
       "      <td>Email</td>\n",
       "      <td>control</td>\n",
       "      <td>False</td>\n",
       "      <td>German</td>\n",
       "      <td>0-18 years</td>\n",
       "      <td>1/16/2018</td>\n",
       "      <td>NaN</td>\n",
       "      <td>True</td>\n",
       "    </tr>\n",
       "    <tr>\n",
       "      <td>10019</td>\n",
       "      <td>a100007292</td>\n",
       "      <td>2018-01-05</td>\n",
       "      <td>Instagram</td>\n",
       "      <td>control</td>\n",
       "      <td>False</td>\n",
       "      <td>German</td>\n",
       "      <td>55+ years</td>\n",
       "      <td>1/17/2018</td>\n",
       "      <td>NaN</td>\n",
       "      <td>True</td>\n",
       "    </tr>\n",
       "    <tr>\n",
       "      <td>10021</td>\n",
       "      <td>a100007294</td>\n",
       "      <td>2018-01-06</td>\n",
       "      <td>Facebook</td>\n",
       "      <td>control</td>\n",
       "      <td>False</td>\n",
       "      <td>German</td>\n",
       "      <td>0-18 years</td>\n",
       "      <td>1/17/2018</td>\n",
       "      <td>NaN</td>\n",
       "      <td>True</td>\n",
       "    </tr>\n",
       "  </tbody>\n",
       "</table>\n",
       "<p>578 rows × 10 columns</p>\n",
       "</div>"
      ],
      "text/plain": [
       "          user_id date_served marketing_channel     test_control  converted  \\\n",
       "22     a100000050  2018-01-01         House Ads  personalization      False   \n",
       "24     a100000051  2018-01-01              Push  personalization      False   \n",
       "26     a100000052  2018-01-01         House Ads  personalization      False   \n",
       "28     a100000053  2018-01-01         House Ads  personalization      False   \n",
       "30     a100000054  2018-01-01         House Ads  personalization      False   \n",
       "...           ...         ...               ...              ...        ...   \n",
       "9985   a100007258  2018-01-15             Email  personalization      False   \n",
       "9993   a100007266  2018-01-16             Email  personalization      False   \n",
       "10005  a100007278  2018-01-16             Email          control      False   \n",
       "10019  a100007292  2018-01-05         Instagram          control      False   \n",
       "10021  a100007294  2018-01-06          Facebook          control      False   \n",
       "\n",
       "      language_preferred    age_group date_subscribed date_canceled  \\\n",
       "22               English  24-30 years        1/2/2018           NaN   \n",
       "24               English  30-36 years        1/2/2018           NaN   \n",
       "26               English  36-45 years        1/2/2018           NaN   \n",
       "28               English  45-55 years        1/2/2018           NaN   \n",
       "30               English    55+ years        1/2/2018           NaN   \n",
       "...                  ...          ...             ...           ...   \n",
       "9985              German  24-30 years       1/15/2018           NaN   \n",
       "9993              German  24-30 years       1/16/2018           NaN   \n",
       "10005             German   0-18 years       1/16/2018           NaN   \n",
       "10019             German    55+ years       1/17/2018           NaN   \n",
       "10021             German   0-18 years       1/17/2018           NaN   \n",
       "\n",
       "      is_retained  \n",
       "22           True  \n",
       "24           True  \n",
       "26           True  \n",
       "28           True  \n",
       "30           True  \n",
       "...           ...  \n",
       "9985         True  \n",
       "9993         True  \n",
       "10005        True  \n",
       "10019        True  \n",
       "10021        True  \n",
       "\n",
       "[578 rows x 10 columns]"
      ]
     },
     "execution_count": 64,
     "metadata": {},
     "output_type": "execute_result"
    }
   ],
   "source": [
    "camp.loc[(camp['converted'] == False) & (camp['is_retained'] == True)]"
   ]
  },
  {
   "cell_type": "code",
   "execution_count": 65,
   "metadata": {},
   "outputs": [
    {
     "data": {
      "text/html": [
       "<div>\n",
       "<style scoped>\n",
       "    .dataframe tbody tr th:only-of-type {\n",
       "        vertical-align: middle;\n",
       "    }\n",
       "\n",
       "    .dataframe tbody tr th {\n",
       "        vertical-align: top;\n",
       "    }\n",
       "\n",
       "    .dataframe thead th {\n",
       "        text-align: right;\n",
       "    }\n",
       "</style>\n",
       "<table border=\"1\" class=\"dataframe\">\n",
       "  <thead>\n",
       "    <tr style=\"text-align: right;\">\n",
       "      <th></th>\n",
       "      <th>user_id</th>\n",
       "      <th>date_served</th>\n",
       "      <th>marketing_channel</th>\n",
       "      <th>test_control</th>\n",
       "      <th>converted</th>\n",
       "      <th>language_preferred</th>\n",
       "      <th>age_group</th>\n",
       "      <th>date_subscribed</th>\n",
       "      <th>date_canceled</th>\n",
       "      <th>is_retained</th>\n",
       "    </tr>\n",
       "  </thead>\n",
       "  <tbody>\n",
       "    <tr>\n",
       "      <td>21</td>\n",
       "      <td>a100000050</td>\n",
       "      <td>2018-01-02</td>\n",
       "      <td>House Ads</td>\n",
       "      <td>personalization</td>\n",
       "      <td>True</td>\n",
       "      <td>English</td>\n",
       "      <td>24-30 years</td>\n",
       "      <td>1/2/2018</td>\n",
       "      <td>NaN</td>\n",
       "      <td>True</td>\n",
       "    </tr>\n",
       "    <tr>\n",
       "      <td>22</td>\n",
       "      <td>a100000050</td>\n",
       "      <td>2018-01-01</td>\n",
       "      <td>House Ads</td>\n",
       "      <td>personalization</td>\n",
       "      <td>False</td>\n",
       "      <td>English</td>\n",
       "      <td>24-30 years</td>\n",
       "      <td>1/2/2018</td>\n",
       "      <td>NaN</td>\n",
       "      <td>True</td>\n",
       "    </tr>\n",
       "  </tbody>\n",
       "</table>\n",
       "</div>"
      ],
      "text/plain": [
       "       user_id date_served marketing_channel     test_control  converted  \\\n",
       "21  a100000050  2018-01-02         House Ads  personalization       True   \n",
       "22  a100000050  2018-01-01         House Ads  personalization      False   \n",
       "\n",
       "   language_preferred    age_group date_subscribed date_canceled is_retained  \n",
       "21            English  24-30 years        1/2/2018           NaN        True  \n",
       "22            English  24-30 years        1/2/2018           NaN        True  "
      ]
     },
     "execution_count": 65,
     "metadata": {},
     "output_type": "execute_result"
    }
   ],
   "source": [
    "camp.loc[camp['user_id'] == 'a100000050']\n",
    "# this cann't explain why the number of retained user can be larger than converted\n",
    "# Because you already used nunique, so no effect."
   ]
  },
  {
   "cell_type": "code",
   "execution_count": 68,
   "metadata": {},
   "outputs": [],
   "source": [
    "id_look = camp.loc[(camp['converted'] == False) & (camp['is_retained'] == True)]['user_id']"
   ]
  },
  {
   "cell_type": "code",
   "execution_count": 69,
   "metadata": {},
   "outputs": [
    {
     "data": {
      "text/html": [
       "<div>\n",
       "<style scoped>\n",
       "    .dataframe tbody tr th:only-of-type {\n",
       "        vertical-align: middle;\n",
       "    }\n",
       "\n",
       "    .dataframe tbody tr th {\n",
       "        vertical-align: top;\n",
       "    }\n",
       "\n",
       "    .dataframe thead th {\n",
       "        text-align: right;\n",
       "    }\n",
       "</style>\n",
       "<table border=\"1\" class=\"dataframe\">\n",
       "  <thead>\n",
       "    <tr style=\"text-align: right;\">\n",
       "      <th></th>\n",
       "      <th>user_id</th>\n",
       "      <th>date_served</th>\n",
       "      <th>marketing_channel</th>\n",
       "      <th>test_control</th>\n",
       "      <th>converted</th>\n",
       "      <th>language_preferred</th>\n",
       "      <th>age_group</th>\n",
       "      <th>date_subscribed</th>\n",
       "      <th>date_canceled</th>\n",
       "      <th>is_retained</th>\n",
       "    </tr>\n",
       "  </thead>\n",
       "  <tbody>\n",
       "    <tr>\n",
       "      <td>21</td>\n",
       "      <td>a100000050</td>\n",
       "      <td>2018-01-02</td>\n",
       "      <td>House Ads</td>\n",
       "      <td>personalization</td>\n",
       "      <td>True</td>\n",
       "      <td>English</td>\n",
       "      <td>24-30 years</td>\n",
       "      <td>1/2/2018</td>\n",
       "      <td>NaN</td>\n",
       "      <td>True</td>\n",
       "    </tr>\n",
       "    <tr>\n",
       "      <td>22</td>\n",
       "      <td>a100000050</td>\n",
       "      <td>2018-01-01</td>\n",
       "      <td>House Ads</td>\n",
       "      <td>personalization</td>\n",
       "      <td>False</td>\n",
       "      <td>English</td>\n",
       "      <td>24-30 years</td>\n",
       "      <td>1/2/2018</td>\n",
       "      <td>NaN</td>\n",
       "      <td>True</td>\n",
       "    </tr>\n",
       "    <tr>\n",
       "      <td>23</td>\n",
       "      <td>a100000051</td>\n",
       "      <td>2018-01-02</td>\n",
       "      <td>House Ads</td>\n",
       "      <td>personalization</td>\n",
       "      <td>True</td>\n",
       "      <td>English</td>\n",
       "      <td>30-36 years</td>\n",
       "      <td>1/2/2018</td>\n",
       "      <td>NaN</td>\n",
       "      <td>True</td>\n",
       "    </tr>\n",
       "    <tr>\n",
       "      <td>24</td>\n",
       "      <td>a100000051</td>\n",
       "      <td>2018-01-01</td>\n",
       "      <td>Push</td>\n",
       "      <td>personalization</td>\n",
       "      <td>False</td>\n",
       "      <td>English</td>\n",
       "      <td>30-36 years</td>\n",
       "      <td>1/2/2018</td>\n",
       "      <td>NaN</td>\n",
       "      <td>True</td>\n",
       "    </tr>\n",
       "    <tr>\n",
       "      <td>25</td>\n",
       "      <td>a100000052</td>\n",
       "      <td>2018-01-02</td>\n",
       "      <td>House Ads</td>\n",
       "      <td>personalization</td>\n",
       "      <td>True</td>\n",
       "      <td>English</td>\n",
       "      <td>36-45 years</td>\n",
       "      <td>1/2/2018</td>\n",
       "      <td>NaN</td>\n",
       "      <td>True</td>\n",
       "    </tr>\n",
       "    <tr>\n",
       "      <td>...</td>\n",
       "      <td>...</td>\n",
       "      <td>...</td>\n",
       "      <td>...</td>\n",
       "      <td>...</td>\n",
       "      <td>...</td>\n",
       "      <td>...</td>\n",
       "      <td>...</td>\n",
       "      <td>...</td>\n",
       "      <td>...</td>\n",
       "      <td>...</td>\n",
       "    </tr>\n",
       "    <tr>\n",
       "      <td>9985</td>\n",
       "      <td>a100007258</td>\n",
       "      <td>2018-01-15</td>\n",
       "      <td>Email</td>\n",
       "      <td>personalization</td>\n",
       "      <td>False</td>\n",
       "      <td>German</td>\n",
       "      <td>24-30 years</td>\n",
       "      <td>1/15/2018</td>\n",
       "      <td>NaN</td>\n",
       "      <td>True</td>\n",
       "    </tr>\n",
       "    <tr>\n",
       "      <td>9993</td>\n",
       "      <td>a100007266</td>\n",
       "      <td>2018-01-16</td>\n",
       "      <td>Email</td>\n",
       "      <td>personalization</td>\n",
       "      <td>False</td>\n",
       "      <td>German</td>\n",
       "      <td>24-30 years</td>\n",
       "      <td>1/16/2018</td>\n",
       "      <td>NaN</td>\n",
       "      <td>True</td>\n",
       "    </tr>\n",
       "    <tr>\n",
       "      <td>10005</td>\n",
       "      <td>a100007278</td>\n",
       "      <td>2018-01-16</td>\n",
       "      <td>Email</td>\n",
       "      <td>control</td>\n",
       "      <td>False</td>\n",
       "      <td>German</td>\n",
       "      <td>0-18 years</td>\n",
       "      <td>1/16/2018</td>\n",
       "      <td>NaN</td>\n",
       "      <td>True</td>\n",
       "    </tr>\n",
       "    <tr>\n",
       "      <td>10019</td>\n",
       "      <td>a100007292</td>\n",
       "      <td>2018-01-05</td>\n",
       "      <td>Instagram</td>\n",
       "      <td>control</td>\n",
       "      <td>False</td>\n",
       "      <td>German</td>\n",
       "      <td>55+ years</td>\n",
       "      <td>1/17/2018</td>\n",
       "      <td>NaN</td>\n",
       "      <td>True</td>\n",
       "    </tr>\n",
       "    <tr>\n",
       "      <td>10021</td>\n",
       "      <td>a100007294</td>\n",
       "      <td>2018-01-06</td>\n",
       "      <td>Facebook</td>\n",
       "      <td>control</td>\n",
       "      <td>False</td>\n",
       "      <td>German</td>\n",
       "      <td>0-18 years</td>\n",
       "      <td>1/17/2018</td>\n",
       "      <td>NaN</td>\n",
       "      <td>True</td>\n",
       "    </tr>\n",
       "  </tbody>\n",
       "</table>\n",
       "<p>1035 rows × 10 columns</p>\n",
       "</div>"
      ],
      "text/plain": [
       "          user_id date_served marketing_channel     test_control  converted  \\\n",
       "21     a100000050  2018-01-02         House Ads  personalization       True   \n",
       "22     a100000050  2018-01-01         House Ads  personalization      False   \n",
       "23     a100000051  2018-01-02         House Ads  personalization       True   \n",
       "24     a100000051  2018-01-01              Push  personalization      False   \n",
       "25     a100000052  2018-01-02         House Ads  personalization       True   \n",
       "...           ...         ...               ...              ...        ...   \n",
       "9985   a100007258  2018-01-15             Email  personalization      False   \n",
       "9993   a100007266  2018-01-16             Email  personalization      False   \n",
       "10005  a100007278  2018-01-16             Email          control      False   \n",
       "10019  a100007292  2018-01-05         Instagram          control      False   \n",
       "10021  a100007294  2018-01-06          Facebook          control      False   \n",
       "\n",
       "      language_preferred    age_group date_subscribed date_canceled  \\\n",
       "21               English  24-30 years        1/2/2018           NaN   \n",
       "22               English  24-30 years        1/2/2018           NaN   \n",
       "23               English  30-36 years        1/2/2018           NaN   \n",
       "24               English  30-36 years        1/2/2018           NaN   \n",
       "25               English  36-45 years        1/2/2018           NaN   \n",
       "...                  ...          ...             ...           ...   \n",
       "9985              German  24-30 years       1/15/2018           NaN   \n",
       "9993              German  24-30 years       1/16/2018           NaN   \n",
       "10005             German   0-18 years       1/16/2018           NaN   \n",
       "10019             German    55+ years       1/17/2018           NaN   \n",
       "10021             German   0-18 years       1/17/2018           NaN   \n",
       "\n",
       "      is_retained  \n",
       "21           True  \n",
       "22           True  \n",
       "23           True  \n",
       "24           True  \n",
       "25           True  \n",
       "...           ...  \n",
       "9985         True  \n",
       "9993         True  \n",
       "10005        True  \n",
       "10019        True  \n",
       "10021        True  \n",
       "\n",
       "[1035 rows x 10 columns]"
      ]
     },
     "execution_count": 69,
     "metadata": {},
     "output_type": "execute_result"
    }
   ],
   "source": [
    "camp.loc[camp['user_id'].isin(id_look)]"
   ]
  },
  {
   "cell_type": "code",
   "execution_count": 73,
   "metadata": {},
   "outputs": [
    {
     "data": {
      "text/html": [
       "<div>\n",
       "<style scoped>\n",
       "    .dataframe tbody tr th:only-of-type {\n",
       "        vertical-align: middle;\n",
       "    }\n",
       "\n",
       "    .dataframe tbody tr th {\n",
       "        vertical-align: top;\n",
       "    }\n",
       "\n",
       "    .dataframe thead th {\n",
       "        text-align: right;\n",
       "    }\n",
       "</style>\n",
       "<table border=\"1\" class=\"dataframe\">\n",
       "  <thead>\n",
       "    <tr style=\"text-align: right;\">\n",
       "      <th></th>\n",
       "      <th>user_id</th>\n",
       "      <th>date_served</th>\n",
       "      <th>marketing_channel</th>\n",
       "      <th>test_control</th>\n",
       "      <th>converted</th>\n",
       "      <th>language_preferred</th>\n",
       "      <th>age_group</th>\n",
       "      <th>date_subscribed</th>\n",
       "      <th>date_canceled</th>\n",
       "      <th>is_retained</th>\n",
       "    </tr>\n",
       "  </thead>\n",
       "  <tbody>\n",
       "    <tr>\n",
       "      <td>9993</td>\n",
       "      <td>a100007266</td>\n",
       "      <td>2018-01-16</td>\n",
       "      <td>Email</td>\n",
       "      <td>personalization</td>\n",
       "      <td>False</td>\n",
       "      <td>German</td>\n",
       "      <td>24-30 years</td>\n",
       "      <td>1/16/2018</td>\n",
       "      <td>NaN</td>\n",
       "      <td>True</td>\n",
       "    </tr>\n",
       "  </tbody>\n",
       "</table>\n",
       "</div>"
      ],
      "text/plain": [
       "         user_id date_served marketing_channel     test_control  converted  \\\n",
       "9993  a100007266  2018-01-16             Email  personalization      False   \n",
       "\n",
       "     language_preferred    age_group date_subscribed date_canceled is_retained  \n",
       "9993             German  24-30 years       1/16/2018           NaN        True  "
      ]
     },
     "execution_count": 73,
     "metadata": {},
     "output_type": "execute_result"
    }
   ],
   "source": [
    "camp.loc[camp['user_id'] == 'a100007266'] # check another user_id"
   ]
  },
  {
   "cell_type": "markdown",
   "metadata": {},
   "source": [
    "This result tell us that there is imcomplete data, and the case above is impossible to exist in dataset. (data issue)"
   ]
  },
  {
   "cell_type": "code",
   "execution_count": null,
   "metadata": {},
   "outputs": [],
   "source": []
  },
  {
   "cell_type": "markdown",
   "metadata": {},
   "source": [
    "##### Customer Segmentation analysis by more than one segments"
   ]
  },
  {
   "cell_type": "code",
   "execution_count": 74,
   "metadata": {},
   "outputs": [],
   "source": [
    "lang_age_conv=camp.loc[camp['converted']==True].groupby(['language_preferred', 'age_group'])['user_id'].nunique()"
   ]
  },
  {
   "cell_type": "code",
   "execution_count": 76,
   "metadata": {},
   "outputs": [
    {
     "name": "stdout",
     "output_type": "stream",
     "text": [
      "language_preferred  age_group  \n",
      "Arabic              0-18 years       4\n",
      "                    19-24 years      2\n",
      "                    24-30 years      8\n",
      "                    36-45 years      1\n",
      "                    45-55 years      3\n",
      "                    55+ years        1\n",
      "English             0-18 years     168\n",
      "                    19-24 years    281\n",
      "                    24-30 years    201\n",
      "                    30-36 years     69\n",
      "                    36-45 years     65\n",
      "                    45-55 years     61\n",
      "                    55+ years       66\n",
      "German              0-18 years      13\n",
      "                    19-24 years     14\n",
      "                    24-30 years     17\n",
      "                    30-36 years      3\n",
      "                    36-45 years      4\n",
      "                    45-55 years      6\n",
      "                    55+ years        2\n",
      "Spanish             0-18 years       7\n",
      "                    19-24 years      6\n",
      "                    24-30 years      2\n",
      "                    30-36 years      5\n",
      "                    36-45 years      4\n",
      "                    45-55 years      5\n",
      "                    55+ years        7\n",
      "Name: user_id, dtype: int64\n"
     ]
    }
   ],
   "source": [
    "print(lang_age_conv)"
   ]
  },
  {
   "cell_type": "markdown",
   "metadata": {},
   "source": [
    "#### Unstack the result to a DataFrame in order to plot"
   ]
  },
  {
   "cell_type": "code",
   "execution_count": 77,
   "metadata": {},
   "outputs": [
    {
     "data": {
      "text/html": [
       "<div>\n",
       "<style scoped>\n",
       "    .dataframe tbody tr th:only-of-type {\n",
       "        vertical-align: middle;\n",
       "    }\n",
       "\n",
       "    .dataframe tbody tr th {\n",
       "        vertical-align: top;\n",
       "    }\n",
       "\n",
       "    .dataframe thead th {\n",
       "        text-align: right;\n",
       "    }\n",
       "</style>\n",
       "<table border=\"1\" class=\"dataframe\">\n",
       "  <thead>\n",
       "    <tr style=\"text-align: right;\">\n",
       "      <th>age_group</th>\n",
       "      <th>0-18 years</th>\n",
       "      <th>19-24 years</th>\n",
       "      <th>24-30 years</th>\n",
       "      <th>30-36 years</th>\n",
       "      <th>36-45 years</th>\n",
       "      <th>45-55 years</th>\n",
       "      <th>55+ years</th>\n",
       "    </tr>\n",
       "    <tr>\n",
       "      <th>language_preferred</th>\n",
       "      <th></th>\n",
       "      <th></th>\n",
       "      <th></th>\n",
       "      <th></th>\n",
       "      <th></th>\n",
       "      <th></th>\n",
       "      <th></th>\n",
       "    </tr>\n",
       "  </thead>\n",
       "  <tbody>\n",
       "    <tr>\n",
       "      <td>Arabic</td>\n",
       "      <td>4.0</td>\n",
       "      <td>2.0</td>\n",
       "      <td>8.0</td>\n",
       "      <td>NaN</td>\n",
       "      <td>1.0</td>\n",
       "      <td>3.0</td>\n",
       "      <td>1.0</td>\n",
       "    </tr>\n",
       "    <tr>\n",
       "      <td>English</td>\n",
       "      <td>168.0</td>\n",
       "      <td>281.0</td>\n",
       "      <td>201.0</td>\n",
       "      <td>69.0</td>\n",
       "      <td>65.0</td>\n",
       "      <td>61.0</td>\n",
       "      <td>66.0</td>\n",
       "    </tr>\n",
       "    <tr>\n",
       "      <td>German</td>\n",
       "      <td>13.0</td>\n",
       "      <td>14.0</td>\n",
       "      <td>17.0</td>\n",
       "      <td>3.0</td>\n",
       "      <td>4.0</td>\n",
       "      <td>6.0</td>\n",
       "      <td>2.0</td>\n",
       "    </tr>\n",
       "    <tr>\n",
       "      <td>Spanish</td>\n",
       "      <td>7.0</td>\n",
       "      <td>6.0</td>\n",
       "      <td>2.0</td>\n",
       "      <td>5.0</td>\n",
       "      <td>4.0</td>\n",
       "      <td>5.0</td>\n",
       "      <td>7.0</td>\n",
       "    </tr>\n",
       "  </tbody>\n",
       "</table>\n",
       "</div>"
      ],
      "text/plain": [
       "age_group           0-18 years  19-24 years  24-30 years  30-36 years  \\\n",
       "language_preferred                                                      \n",
       "Arabic                     4.0          2.0          8.0          NaN   \n",
       "English                  168.0        281.0        201.0         69.0   \n",
       "German                    13.0         14.0         17.0          3.0   \n",
       "Spanish                    7.0          6.0          2.0          5.0   \n",
       "\n",
       "age_group           36-45 years  45-55 years  55+ years  \n",
       "language_preferred                                       \n",
       "Arabic                      1.0          3.0        1.0  \n",
       "English                    65.0         61.0       66.0  \n",
       "German                      4.0          6.0        2.0  \n",
       "Spanish                     4.0          5.0        7.0  "
      ]
     },
     "execution_count": 77,
     "metadata": {},
     "output_type": "execute_result"
    }
   ],
   "source": [
    "lang_age_conv.unstack(level=1)\n",
    "# level=1 means that make the age_group to become the column."
   ]
  },
  {
   "cell_type": "code",
   "execution_count": 81,
   "metadata": {},
   "outputs": [],
   "source": [
    "df_lang_age_conv = lang_age_conv.unstack(level=1)"
   ]
  },
  {
   "cell_type": "markdown",
   "metadata": {},
   "source": [
    "Same function as above"
   ]
  },
  {
   "cell_type": "code",
   "execution_count": 79,
   "metadata": {},
   "outputs": [],
   "source": [
    "df_language_age_convert=pd.DataFrame(lang_age_conv.unstack(level=1))"
   ]
  },
  {
   "cell_type": "code",
   "execution_count": 80,
   "metadata": {},
   "outputs": [
    {
     "name": "stdout",
     "output_type": "stream",
     "text": [
      "age_group           0-18 years  19-24 years  24-30 years  30-36 years  \\\n",
      "language_preferred                                                      \n",
      "Arabic                     4.0          2.0          8.0          NaN   \n",
      "English                  168.0        281.0        201.0         69.0   \n",
      "German                    13.0         14.0         17.0          3.0   \n",
      "Spanish                    7.0          6.0          2.0          5.0   \n",
      "\n",
      "age_group           36-45 years  45-55 years  55+ years  \n",
      "language_preferred                                       \n",
      "Arabic                      1.0          3.0        1.0  \n",
      "English                    65.0         61.0       66.0  \n",
      "German                      4.0          6.0        2.0  \n",
      "Spanish                     4.0          5.0        7.0  \n"
     ]
    }
   ],
   "source": [
    "print(df_language_age_convert)"
   ]
  },
  {
   "cell_type": "code",
   "execution_count": 82,
   "metadata": {},
   "outputs": [
    {
     "data": {
      "image/png": "[encoded data removed]",
      "text/plain": [
       "<Figure size 432x288 with 1 Axes>"
      ]
     },
     "metadata": {
      "needs_background": "light"
     },
     "output_type": "display_data"
    }
   ],
   "source": [
    "# plot\n",
    "df_lang_age_conv.plot(kind='bar') # or we could also use df_language_age_convert.plot(kind='bar')\n",
    "\n",
    "# annotate\n",
    "plt.title('number of users by language and age')\n",
    "plt.xlabel('language')\n",
    "plt.ylabel('number of users')\n",
    "plt.show()"
   ]
  },
  {
   "cell_type": "markdown",
   "metadata": {},
   "source": [
    "The result above is useless because there is a large group of English users, so it is better to use ratio"
   ]
  },
  {
   "cell_type": "markdown",
   "metadata": {},
   "source": [
    "#### Conversion rate by language and age"
   ]
  },
  {
   "cell_type": "code",
   "execution_count": 84,
   "metadata": {},
   "outputs": [
    {
     "data": {
      "text/plain": [
       "language_preferred  age_group  \n",
       "Arabic              0-18 years       16\n",
       "                    19-24 years      18\n",
       "                    24-30 years      16\n",
       "                    30-36 years      12\n",
       "                    36-45 years      13\n",
       "                    45-55 years      14\n",
       "                    55+ years        17\n",
       "English             0-18 years     1124\n",
       "                    19-24 years    1215\n",
       "                    24-30 years    1119\n",
       "                    30-36 years     976\n",
       "                    36-45 years     991\n",
       "                    45-55 years     976\n",
       "                    55+ years       920\n",
       "German              0-18 years       24\n",
       "                    19-24 years      23\n",
       "                    24-30 years      29\n",
       "                    30-36 years      12\n",
       "                    36-45 years      14\n",
       "                    45-55 years      20\n",
       "                    55+ years         9\n",
       "Spanish             0-18 years       43\n",
       "                    19-24 years      51\n",
       "                    24-30 years      54\n",
       "                    30-36 years      57\n",
       "                    36-45 years      39\n",
       "                    45-55 years      47\n",
       "                    55+ years        34\n",
       "Name: user_id, dtype: int64"
      ]
     },
     "execution_count": 84,
     "metadata": {},
     "output_type": "execute_result"
    }
   ],
   "source": [
    "language_age = camp.groupby(['language_preferred', 'age_group'])['user_id'].nunique()\n",
    "language_age"
   ]
  },
  {
   "cell_type": "code",
   "execution_count": 85,
   "metadata": {},
   "outputs": [
    {
     "data": {
      "text/plain": [
       "language_preferred  age_group  \n",
       "Arabic              0-18 years       4\n",
       "                    19-24 years      2\n",
       "                    24-30 years      8\n",
       "                    36-45 years      1\n",
       "                    45-55 years      3\n",
       "                    55+ years        1\n",
       "English             0-18 years     168\n",
       "                    19-24 years    281\n",
       "                    24-30 years    201\n",
       "                    30-36 years     69\n",
       "                    36-45 years     65\n",
       "                    45-55 years     61\n",
       "                    55+ years       66\n",
       "German              0-18 years      13\n",
       "                    19-24 years     14\n",
       "                    24-30 years     17\n",
       "                    30-36 years      3\n",
       "                    36-45 years      4\n",
       "                    45-55 years      6\n",
       "                    55+ years        2\n",
       "Spanish             0-18 years       7\n",
       "                    19-24 years      6\n",
       "                    24-30 years      2\n",
       "                    30-36 years      5\n",
       "                    36-45 years      4\n",
       "                    45-55 years      5\n",
       "                    55+ years        7\n",
       "Name: user_id, dtype: int64"
      ]
     },
     "execution_count": 85,
     "metadata": {},
     "output_type": "execute_result"
    }
   ],
   "source": [
    "lang_age_conv=camp.loc[camp['converted']==True].groupby(['language_preferred', 'age_group'])['user_id'].nunique()\n",
    "lang_age_conv"
   ]
  },
  {
   "cell_type": "code",
   "execution_count": 87,
   "metadata": {},
   "outputs": [
    {
     "data": {
      "text/plain": [
       "language_preferred  age_group  \n",
       "Arabic              0-18 years     0.250000\n",
       "                    19-24 years    0.111111\n",
       "                    24-30 years    0.500000\n",
       "                    30-36 years         NaN\n",
       "                    36-45 years    0.076923\n",
       "                    45-55 years    0.214286\n",
       "                    55+ years      0.058824\n",
       "English             0-18 years     0.149466\n",
       "                    19-24 years    0.231276\n",
       "                    24-30 years    0.179625\n",
       "                    30-36 years    0.070697\n",
       "                    36-45 years    0.065590\n",
       "                    45-55 years    0.062500\n",
       "                    55+ years      0.071739\n",
       "German              0-18 years     0.541667\n",
       "                    19-24 years    0.608696\n",
       "                    24-30 years    0.586207\n",
       "                    30-36 years    0.250000\n",
       "                    36-45 years    0.285714\n",
       "                    45-55 years    0.300000\n",
       "                    55+ years      0.222222\n",
       "Spanish             0-18 years     0.162791\n",
       "                    19-24 years    0.117647\n",
       "                    24-30 years    0.037037\n",
       "                    30-36 years    0.087719\n",
       "                    36-45 years    0.102564\n",
       "                    45-55 years    0.106383\n",
       "                    55+ years      0.205882\n",
       "Name: user_id, dtype: float64"
      ]
     },
     "execution_count": 87,
     "metadata": {},
     "output_type": "execute_result"
    }
   ],
   "source": [
    "conv_rate = lang_age_conv / language_age\n",
    "lang_age_conv / language_age"
   ]
  },
  {
   "cell_type": "code",
   "execution_count": 90,
   "metadata": {},
   "outputs": [
    {
     "data": {
      "text/html": [
       "<div>\n",
       "<style scoped>\n",
       "    .dataframe tbody tr th:only-of-type {\n",
       "        vertical-align: middle;\n",
       "    }\n",
       "\n",
       "    .dataframe tbody tr th {\n",
       "        vertical-align: top;\n",
       "    }\n",
       "\n",
       "    .dataframe thead th {\n",
       "        text-align: right;\n",
       "    }\n",
       "</style>\n",
       "<table border=\"1\" class=\"dataframe\">\n",
       "  <thead>\n",
       "    <tr style=\"text-align: right;\">\n",
       "      <th>age_group</th>\n",
       "      <th>0-18 years</th>\n",
       "      <th>19-24 years</th>\n",
       "      <th>24-30 years</th>\n",
       "      <th>30-36 years</th>\n",
       "      <th>36-45 years</th>\n",
       "      <th>45-55 years</th>\n",
       "      <th>55+ years</th>\n",
       "    </tr>\n",
       "    <tr>\n",
       "      <th>language_preferred</th>\n",
       "      <th></th>\n",
       "      <th></th>\n",
       "      <th></th>\n",
       "      <th></th>\n",
       "      <th></th>\n",
       "      <th></th>\n",
       "      <th></th>\n",
       "    </tr>\n",
       "  </thead>\n",
       "  <tbody>\n",
       "    <tr>\n",
       "      <td>Arabic</td>\n",
       "      <td>0.250000</td>\n",
       "      <td>0.111111</td>\n",
       "      <td>0.500000</td>\n",
       "      <td>NaN</td>\n",
       "      <td>0.076923</td>\n",
       "      <td>0.214286</td>\n",
       "      <td>0.058824</td>\n",
       "    </tr>\n",
       "    <tr>\n",
       "      <td>English</td>\n",
       "      <td>0.149466</td>\n",
       "      <td>0.231276</td>\n",
       "      <td>0.179625</td>\n",
       "      <td>0.070697</td>\n",
       "      <td>0.065590</td>\n",
       "      <td>0.062500</td>\n",
       "      <td>0.071739</td>\n",
       "    </tr>\n",
       "    <tr>\n",
       "      <td>German</td>\n",
       "      <td>0.541667</td>\n",
       "      <td>0.608696</td>\n",
       "      <td>0.586207</td>\n",
       "      <td>0.250000</td>\n",
       "      <td>0.285714</td>\n",
       "      <td>0.300000</td>\n",
       "      <td>0.222222</td>\n",
       "    </tr>\n",
       "    <tr>\n",
       "      <td>Spanish</td>\n",
       "      <td>0.162791</td>\n",
       "      <td>0.117647</td>\n",
       "      <td>0.037037</td>\n",
       "      <td>0.087719</td>\n",
       "      <td>0.102564</td>\n",
       "      <td>0.106383</td>\n",
       "      <td>0.205882</td>\n",
       "    </tr>\n",
       "  </tbody>\n",
       "</table>\n",
       "</div>"
      ],
      "text/plain": [
       "age_group           0-18 years  19-24 years  24-30 years  30-36 years  \\\n",
       "language_preferred                                                      \n",
       "Arabic                0.250000     0.111111     0.500000          NaN   \n",
       "English               0.149466     0.231276     0.179625     0.070697   \n",
       "German                0.541667     0.608696     0.586207     0.250000   \n",
       "Spanish               0.162791     0.117647     0.037037     0.087719   \n",
       "\n",
       "age_group           36-45 years  45-55 years  55+ years  \n",
       "language_preferred                                       \n",
       "Arabic                 0.076923     0.214286   0.058824  \n",
       "English                0.065590     0.062500   0.071739  \n",
       "German                 0.285714     0.300000   0.222222  \n",
       "Spanish                0.102564     0.106383   0.205882  "
      ]
     },
     "execution_count": 90,
     "metadata": {},
     "output_type": "execute_result"
    }
   ],
   "source": [
    "df_conv_rate = conv_rate.unstack()\n",
    "conv_rate.unstack()"
   ]
  },
  {
   "cell_type": "code",
   "execution_count": 91,
   "metadata": {},
   "outputs": [
    {
     "data": {
      "image/png": "[encoded data removed]",
      "text/plain": [
       "<Figure size 432x288 with 1 Axes>"
      ]
     },
     "metadata": {
      "needs_background": "light"
     },
     "output_type": "display_data"
    }
   ],
   "source": [
    "# plot\n",
    "df_conv_rate.plot(kind='bar')\n",
    "\n",
    "# annotate\n",
    "plt.title('conversion rate by language and age')\n",
    "plt.xlabel('language')\n",
    "plt.ylabel('conversion rate')\n",
    "plt.show()"
   ]
  },
  {
   "cell_type": "markdown",
   "metadata": {},
   "source": [
    "### A/B Testing"
   ]
  },
  {
   "cell_type": "code",
   "execution_count": 92,
   "metadata": {},
   "outputs": [],
   "source": [
    "from scipy import stats\n",
    "import numpy as np"
   ]
  },
  {
   "cell_type": "code",
   "execution_count": 93,
   "metadata": {},
   "outputs": [
    {
     "data": {
      "text/plain": [
       "control            5076\n",
       "personalization    4946\n",
       "Name: test_control, dtype: int64"
      ]
     },
     "execution_count": 93,
     "metadata": {},
     "output_type": "execute_result"
    }
   ],
   "source": [
    "camp['test_control'].value_counts()"
   ]
  },
  {
   "cell_type": "code",
   "execution_count": 95,
   "metadata": {},
   "outputs": [],
   "source": [
    "# Let's only look at Email marketing channel\n",
    "email = camp.loc[camp['marketing_channel'] == 'Email']"
   ]
  },
  {
   "cell_type": "code",
   "execution_count": 96,
   "metadata": {},
   "outputs": [
    {
     "name": "stdout",
     "output_type": "stream",
     "text": [
      "          user_id date_served marketing_channel     test_control  converted  \\\n",
      "354    a100000526  2018-01-01             Email  personalization       True   \n",
      "358    a100000530  2018-01-05             Email  personalization       True   \n",
      "362    a100000534  2018-01-09             Email  personalization      False   \n",
      "366    a100000538  2018-01-13             Email  personalization       True   \n",
      "370    a100000542  2018-01-17             Email  personalization       True   \n",
      "...           ...         ...               ...              ...        ...   \n",
      "10015  a100007288  2018-01-17             Email          control       True   \n",
      "10016  a100007289  2018-01-17             Email          control       True   \n",
      "10017  a100007290  2018-01-17             Email          control       True   \n",
      "10018  a100007291  2018-01-17             Email          control       True   \n",
      "10020  a100007293  2018-01-17             Email          control       True   \n",
      "\n",
      "      language_preferred    age_group date_subscribed date_canceled  \\\n",
      "354               Arabic   0-18 years        1/1/2018           NaN   \n",
      "358               Arabic  19-24 years        1/5/2018           NaN   \n",
      "362              English  45-55 years        1/9/2018           NaN   \n",
      "366               Arabic  24-30 years       1/13/2018     1/23/2018   \n",
      "370              English   0-18 years       1/17/2018     2/12/2018   \n",
      "...                  ...          ...             ...           ...   \n",
      "10015             German  30-36 years       1/17/2018     4/26/2018   \n",
      "10016             German  36-45 years       1/17/2018     1/27/2018   \n",
      "10017             German  45-55 years       1/17/2018     1/24/2018   \n",
      "10018             German    55+ years       1/17/2018           NaN   \n",
      "10020             German   0-18 years       1/17/2018           NaN   \n",
      "\n",
      "      is_retained  \n",
      "354          True  \n",
      "358          True  \n",
      "362          True  \n",
      "366         False  \n",
      "370         False  \n",
      "...           ...  \n",
      "10015       False  \n",
      "10016       False  \n",
      "10017       False  \n",
      "10018        True  \n",
      "10020        True  \n",
      "\n",
      "[565 rows x 10 columns]\n"
     ]
    }
   ],
   "source": [
    "print(email)"
   ]
  },
  {
   "cell_type": "markdown",
   "metadata": {},
   "source": [
    "For email channel, there are the test groups which received personalization email and the control group which receive normal email"
   ]
  },
  {
   "cell_type": "code",
   "execution_count": 97,
   "metadata": {},
   "outputs": [
    {
     "data": {
      "text/plain": [
       "test_control\n",
       "control            270\n",
       "personalization    284\n",
       "Name: user_id, dtype: int64"
      ]
     },
     "execution_count": 97,
     "metadata": {},
     "output_type": "execute_result"
    }
   ],
   "source": [
    "email.groupby(['test_control'])['user_id'].nunique()"
   ]
  },
  {
   "cell_type": "code",
   "execution_count": 98,
   "metadata": {},
   "outputs": [
    {
     "data": {
      "text/plain": [
       "test_control\n",
       "control             76\n",
       "personalization    111\n",
       "Name: user_id, dtype: int64"
      ]
     },
     "execution_count": 98,
     "metadata": {},
     "output_type": "execute_result"
    }
   ],
   "source": [
    "# Let's compare the conversion rate between test and control group\n",
    "email.loc[email['converted']==True].groupby(['test_control'])['user_id'].nunique()"
   ]
  },
  {
   "cell_type": "code",
   "execution_count": 99,
   "metadata": {},
   "outputs": [
    {
     "data": {
      "text/plain": [
       "test_control\n",
       "control            0.281481\n",
       "personalization    0.390845\n",
       "Name: user_id, dtype: float64"
      ]
     },
     "execution_count": 99,
     "metadata": {},
     "output_type": "execute_result"
    }
   ],
   "source": [
    "email.loc[email['converted']==True].groupby(['test_control'])['user_id'].nunique()\\\n",
    "/email.groupby(['test_control'])['user_id'].nunique()"
   ]
  },
  {
   "cell_type": "markdown",
   "metadata": {},
   "source": [
    "Calculate the lift:\n",
    "\n",
    "(Test conversion rate - Control conversion rate) / Control converstion rate"
   ]
  },
  {
   "cell_type": "code",
   "execution_count": 100,
   "metadata": {},
   "outputs": [],
   "source": [
    "lift = (0.390845 - 0.281481)/ 0.281481"
   ]
  },
  {
   "cell_type": "code",
   "execution_count": 101,
   "metadata": {},
   "outputs": [
    {
     "name": "stdout",
     "output_type": "stream",
     "text": [
      "0.38853066459192637\n"
     ]
    }
   ],
   "source": [
    "print(lift)"
   ]
  },
  {
   "cell_type": "code",
   "execution_count": null,
   "metadata": {},
   "outputs": [],
   "source": []
  }
 ],
 "metadata": {
  "kernelspec": {
   "display_name": "Python 3",
   "language": "python",
   "name": "python3"
  },
  "language_info": {
   "codemirror_mode": {
    "name": "ipython",
    "version": 3
   },
   "file_extension": ".py",
   "mimetype": "text/x-python",
   "name": "python",
   "nbconvert_exporter": "python",
   "pygments_lexer": "ipython3",
   "version": "3.7.4"
  }
 },
 "nbformat": 4,
 "nbformat_minor": 2
}
